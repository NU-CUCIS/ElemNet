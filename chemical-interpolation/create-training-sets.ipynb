{
 "cells": [
  {
   "cell_type": "markdown",
   "metadata": {},
   "source": [
    "# Create Training Sets for Chemical Interpolation Test\n",
    "The goal of this test is to determine whether machine learning models are able to infer the interactions between elements that are not included in the training set. We will set up two different tests, \n",
    "1. Exclude a single quaternary. Withhold all entries that contain exclusively elements from the target \n",
    "2. Exclude a certain pair interaction. Withhold all entries that contain both elements in a certain pair"
   ]
  },
  {
   "cell_type": "code",
   "execution_count": 1,
   "metadata": {
    "collapsed": true
   },
   "outputs": [],
   "source": [
    "%matplotlib inline\n",
    "from matplotlib import pyplot as plt\n",
    "from pymatgen import Composition\n",
    "from itertools import product\n",
    "import numpy as np\n",
    "import pandas as pd\n",
    "import os\n",
    "import shutil"
   ]
  },
  {
   "cell_type": "markdown",
   "metadata": {},
   "source": [
    "## Read in the OQMD dataset\n",
    "We want only the lowest-energy entry at each composition"
   ]
  },
  {
   "cell_type": "code",
   "execution_count": 2,
   "metadata": {},
   "outputs": [
    {
     "name": "stdout",
     "output_type": "stream",
     "text": [
      "Read 506114 entries\n"
     ]
    },
    {
     "name": "stderr",
     "output_type": "stream",
     "text": [
      "C:\\Users\\ward6\\Miniconda3\\lib\\site-packages\\IPython\\core\\interactiveshell.py:2698: DtypeWarning: Columns (1,2) have mixed types. Specify dtype option on import or set low_memory=False.\n",
      "  interactivity=interactivity, compiler=compiler, result=result)\n"
     ]
    },
    {
     "data": {
      "text/html": [
       "<div>\n",
       "<style scoped>\n",
       "    .dataframe tbody tr th:only-of-type {\n",
       "        vertical-align: middle;\n",
       "    }\n",
       "\n",
       "    .dataframe tbody tr th {\n",
       "        vertical-align: top;\n",
       "    }\n",
       "\n",
       "    .dataframe thead th {\n",
       "        text-align: right;\n",
       "    }\n",
       "</style>\n",
       "<table border=\"1\" class=\"dataframe\">\n",
       "  <thead>\n",
       "    <tr style=\"text-align: right;\">\n",
       "      <th></th>\n",
       "      <th>comp</th>\n",
       "      <th>energy_pa</th>\n",
       "      <th>volume_pa</th>\n",
       "      <th>magmom_pa</th>\n",
       "      <th>bandgap</th>\n",
       "      <th>delta_e</th>\n",
       "      <th>stability</th>\n",
       "    </tr>\n",
       "  </thead>\n",
       "  <tbody>\n",
       "    <tr>\n",
       "      <th>0</th>\n",
       "      <td>Li1</td>\n",
       "      <td>-1.892</td>\n",
       "      <td>17.8351</td>\n",
       "      <td>None</td>\n",
       "      <td>0.0</td>\n",
       "      <td>0.015186</td>\n",
       "      <td>0.0151862666667</td>\n",
       "    </tr>\n",
       "    <tr>\n",
       "      <th>1</th>\n",
       "      <td>Mg1</td>\n",
       "      <td>-1.5396</td>\n",
       "      <td>22.9639</td>\n",
       "      <td>None</td>\n",
       "      <td>0.0</td>\n",
       "      <td>0.002912</td>\n",
       "      <td>0.0029123775</td>\n",
       "    </tr>\n",
       "    <tr>\n",
       "      <th>2</th>\n",
       "      <td>Kr1</td>\n",
       "      <td>0.011256</td>\n",
       "      <td>41.4146</td>\n",
       "      <td>None</td>\n",
       "      <td>7.367</td>\n",
       "      <td>0.015315</td>\n",
       "      <td>0.015314775</td>\n",
       "    </tr>\n",
       "    <tr>\n",
       "      <th>3</th>\n",
       "      <td>Na1</td>\n",
       "      <td>-1.2991</td>\n",
       "      <td>32.9826</td>\n",
       "      <td>None</td>\n",
       "      <td>0.0</td>\n",
       "      <td>0.003780</td>\n",
       "      <td>0.00377956333333</td>\n",
       "    </tr>\n",
       "    <tr>\n",
       "      <th>4</th>\n",
       "      <td>Pd1</td>\n",
       "      <td>-5.15853</td>\n",
       "      <td>15.2088</td>\n",
       "      <td>None</td>\n",
       "      <td>0.0</td>\n",
       "      <td>0.018186</td>\n",
       "      <td>0.0181856433333</td>\n",
       "    </tr>\n",
       "  </tbody>\n",
       "</table>\n",
       "</div>"
      ],
      "text/plain": [
       "  comp energy_pa volume_pa magmom_pa bandgap   delta_e         stability\n",
       "0  Li1    -1.892   17.8351      None     0.0  0.015186   0.0151862666667\n",
       "1  Mg1   -1.5396   22.9639      None     0.0  0.002912      0.0029123775\n",
       "2  Kr1  0.011256   41.4146      None   7.367  0.015315       0.015314775\n",
       "3  Na1   -1.2991   32.9826      None     0.0  0.003780  0.00377956333333\n",
       "4  Pd1  -5.15853   15.2088      None     0.0  0.018186   0.0181856433333"
      ]
     },
     "execution_count": 2,
     "metadata": {},
     "output_type": "execute_result"
    }
   ],
   "source": [
    "oqmd_data = pd.read_csv(os.path.join('..', 'oqmd_all.txt'), delim_whitespace=True)\n",
    "print('Read %d entries'%len(oqmd_data))\n",
    "oqmd_data.head()"
   ]
  },
  {
   "cell_type": "markdown",
   "metadata": {},
   "source": [
    "Make all of the energies numeric"
   ]
  },
  {
   "cell_type": "code",
   "execution_count": 3,
   "metadata": {
    "collapsed": true
   },
   "outputs": [],
   "source": [
    "for col in oqmd_data.columns:\n",
    "    if col == 'comp': continue\n",
    "    oqmd_data[col] = pd.to_numeric(oqmd_data[col], errors='coerce')"
   ]
  },
  {
   "cell_type": "markdown",
   "metadata": {},
   "source": [
    "Eliminate entries with weird formation enthalpies"
   ]
  },
  {
   "cell_type": "code",
   "execution_count": 4,
   "metadata": {
    "collapsed": true
   },
   "outputs": [],
   "source": [
    "oqmd_data.query('delta_e > -20 and delta_e < 5', inplace=True)"
   ]
  },
  {
   "cell_type": "markdown",
   "metadata": {},
   "source": [
    "Generate the composition object of each entry"
   ]
  },
  {
   "cell_type": "code",
   "execution_count": 5,
   "metadata": {
    "collapsed": true
   },
   "outputs": [],
   "source": [
    "oqmd_data['comp_obj'] = oqmd_data['comp'].apply(lambda x: Composition(x))"
   ]
  },
  {
   "cell_type": "code",
   "execution_count": 6,
   "metadata": {
    "scrolled": true
   },
   "outputs": [
    {
     "name": "stderr",
     "output_type": "stream",
     "text": [
      "C:\\Users\\ward6\\Miniconda3\\lib\\site-packages\\pymatgen\\core\\periodic_table.py:409: UserWarning: No electronegativity for Ne. Setting to infinity. This has no physical meaning, and is mainly done to avoid errors caused by the code expecting a float.\n",
      "  % self.symbol)\n",
      "C:\\Users\\ward6\\Miniconda3\\lib\\site-packages\\pymatgen\\core\\periodic_table.py:409: UserWarning: No electronegativity for He. Setting to infinity. This has no physical meaning, and is mainly done to avoid errors caused by the code expecting a float.\n",
      "  % self.symbol)\n",
      "C:\\Users\\ward6\\Miniconda3\\lib\\site-packages\\pymatgen\\core\\periodic_table.py:409: UserWarning: No electronegativity for Ar. Setting to infinity. This has no physical meaning, and is mainly done to avoid errors caused by the code expecting a float.\n",
      "  % self.symbol)\n"
     ]
    }
   ],
   "source": [
    "oqmd_data['pretty_comp'] = oqmd_data['comp_obj'].apply(lambda x: x.reduced_formula)"
   ]
  },
  {
   "cell_type": "markdown",
   "metadata": {},
   "source": [
    "Get only the lowest-energy entry at each composition"
   ]
  },
  {
   "cell_type": "code",
   "execution_count": 7,
   "metadata": {},
   "outputs": [
    {
     "name": "stdout",
     "output_type": "stream",
     "text": [
      "Reduced dataset to 275701 entries\n"
     ]
    }
   ],
   "source": [
    "oqmd_data.sort_values('delta_e', ascending=True, inplace=True)\n",
    "oqmd_data.drop_duplicates('pretty_comp', keep='first', inplace=True)\n",
    "print('Reduced dataset to %d entries'%len(oqmd_data))"
   ]
  },
  {
   "cell_type": "markdown",
   "metadata": {},
   "source": [
    "## Identify the systems with large numbers of entries\n",
    "We want to find a system with a large amount of testing data"
   ]
  },
  {
   "cell_type": "code",
   "execution_count": 8,
   "metadata": {
    "collapsed": true
   },
   "outputs": [],
   "source": [
    "oqmd_data['nelems'] = oqmd_data['comp_obj'].apply(lambda x: len(x))"
   ]
  },
  {
   "cell_type": "code",
   "execution_count": 9,
   "metadata": {
    "collapsed": true
   },
   "outputs": [],
   "source": [
    "oqmd_data['system'] = oqmd_data['comp_obj'].apply(lambda x: \"-\".join([y.symbol for y in x]))"
   ]
  },
  {
   "cell_type": "markdown",
   "metadata": {},
   "source": [
    "Get the top-10 most frequent systems"
   ]
  },
  {
   "cell_type": "code",
   "execution_count": 10,
   "metadata": {},
   "outputs": [
    {
     "data": {
      "text/plain": [
       "Mn-Na-O    20\n",
       "O-Ti       18\n",
       "O-V        18\n",
       "Li-O-V     17\n",
       "Fe-Na-O    17\n",
       "H-O-V      17\n",
       "C-H-N-O    16\n",
       "Al-Mg      16\n",
       "Na-O-V     16\n",
       "Li-Mn-O    16\n",
       "Name: system, dtype: int64"
      ]
     },
     "execution_count": 10,
     "metadata": {},
     "output_type": "execute_result"
    }
   ],
   "source": [
    "oqmd_data['system'].value_counts()[:10]"
   ]
  },
  {
   "cell_type": "markdown",
   "metadata": {},
   "source": [
    "*Finding*: Mn-Na-O and Fe-Na-O are the most common ternaries. So, let's choose the Na-Fe-Mn-O quaternary as a hold-out. Also, there are a large number of Ti-O binary compounds, so let's use that one as the pairwise interaction holdout"
   ]
  },
  {
   "cell_type": "markdown",
   "metadata": {},
   "source": [
    "## Exclude a Quaternary Diagram\n",
    "Exclude the NaFeMnO data as the hold-out set"
   ]
  },
  {
   "cell_type": "code",
   "execution_count": 11,
   "metadata": {
    "collapsed": true
   },
   "outputs": [],
   "source": [
    "my_system = [\"Na\", \"Fe\", \"Mn\", \"O\"]"
   ]
  },
  {
   "cell_type": "code",
   "execution_count": 12,
   "metadata": {
    "collapsed": true
   },
   "outputs": [],
   "source": [
    "def get_test_data(elems):\n",
    "    \"\"\"Get the data that is in any of the phase diagrams that are subsets of a certain system\n",
    "    \n",
    "    Ex: For Na-Fe-O, these are Na-Fe-O, Na-Fe, Na-O, Fe-O, Na-Fe, Na, Fe, O\n",
    "    \n",
    "    :param elems: iterable of strs, phase diagram of interest\n",
    "    :return: subset of OQMD in the constituent systems\"\"\"\n",
    "    \n",
    "    # Generate the constituent systems\n",
    "    systems = set()\n",
    "    for comb in product(*[elems,]*len(elems)):\n",
    "        sys = \"-\".join(sorted(set(comb)))\n",
    "        systems.add(sys)\n",
    "    \n",
    "    # Query for the data\n",
    "    return oqmd_data.query(' or '.join('system==\"%s\"'%s for s in systems))"
   ]
  },
  {
   "cell_type": "code",
   "execution_count": 13,
   "metadata": {},
   "outputs": [
    {
     "name": "stdout",
     "output_type": "stream",
     "text": [
      "Gathered a test set with 96 entries\n"
     ]
    },
    {
     "data": {
      "text/html": [
       "<div>\n",
       "<style scoped>\n",
       "    .dataframe tbody tr th:only-of-type {\n",
       "        vertical-align: middle;\n",
       "    }\n",
       "\n",
       "    .dataframe tbody tr th {\n",
       "        vertical-align: top;\n",
       "    }\n",
       "\n",
       "    .dataframe thead th {\n",
       "        text-align: right;\n",
       "    }\n",
       "</style>\n",
       "<table border=\"1\" class=\"dataframe\">\n",
       "  <thead>\n",
       "    <tr style=\"text-align: right;\">\n",
       "      <th></th>\n",
       "      <th>comp</th>\n",
       "      <th>energy_pa</th>\n",
       "      <th>volume_pa</th>\n",
       "      <th>magmom_pa</th>\n",
       "      <th>bandgap</th>\n",
       "      <th>delta_e</th>\n",
       "      <th>stability</th>\n",
       "      <th>comp_obj</th>\n",
       "      <th>pretty_comp</th>\n",
       "      <th>nelems</th>\n",
       "      <th>system</th>\n",
       "    </tr>\n",
       "  </thead>\n",
       "  <tbody>\n",
       "    <tr>\n",
       "      <th>361271</th>\n",
       "      <td>Fe1Mn1O6</td>\n",
       "      <td>-5.705954</td>\n",
       "      <td>10.7402</td>\n",
       "      <td>0.375689</td>\n",
       "      <td>0.000</td>\n",
       "      <td>-0.692279</td>\n",
       "      <td>0.482018</td>\n",
       "      <td>(Fe, Mn, O)</td>\n",
       "      <td>MnFeO6</td>\n",
       "      <td>3</td>\n",
       "      <td>Fe-Mn-O</td>\n",
       "    </tr>\n",
       "    <tr>\n",
       "      <th>269091</th>\n",
       "      <td>Mn1</td>\n",
       "      <td>-9.026903</td>\n",
       "      <td>10.6840</td>\n",
       "      <td>0.096493</td>\n",
       "      <td>0.000</td>\n",
       "      <td>0.000000</td>\n",
       "      <td>0.000000</td>\n",
       "      <td>(Mn)</td>\n",
       "      <td>Mn</td>\n",
       "      <td>1</td>\n",
       "      <td>Mn</td>\n",
       "    </tr>\n",
       "    <tr>\n",
       "      <th>346958</th>\n",
       "      <td>Na2O3</td>\n",
       "      <td>-4.088824</td>\n",
       "      <td>12.5533</td>\n",
       "      <td>NaN</td>\n",
       "      <td>0.000</td>\n",
       "      <td>-0.912622</td>\n",
       "      <td>0.285744</td>\n",
       "      <td>(Na, O)</td>\n",
       "      <td>Na2O3</td>\n",
       "      <td>2</td>\n",
       "      <td>Na-O</td>\n",
       "    </tr>\n",
       "    <tr>\n",
       "      <th>434812</th>\n",
       "      <td>Fe1O3</td>\n",
       "      <td>-5.732222</td>\n",
       "      <td>10.4354</td>\n",
       "      <td>0.875159</td>\n",
       "      <td>0.000</td>\n",
       "      <td>-0.830062</td>\n",
       "      <td>0.204655</td>\n",
       "      <td>(Fe, O)</td>\n",
       "      <td>FeO3</td>\n",
       "      <td>2</td>\n",
       "      <td>Fe-O</td>\n",
       "    </tr>\n",
       "    <tr>\n",
       "      <th>33714</th>\n",
       "      <td>Na1O1</td>\n",
       "      <td>-4.194173</td>\n",
       "      <td>12.0642</td>\n",
       "      <td>NaN</td>\n",
       "      <td>1.959</td>\n",
       "      <td>-1.336257</td>\n",
       "      <td>-0.081094</td>\n",
       "      <td>(Na, O)</td>\n",
       "      <td>Na2O2</td>\n",
       "      <td>2</td>\n",
       "      <td>Na-O</td>\n",
       "    </tr>\n",
       "  </tbody>\n",
       "</table>\n",
       "</div>"
      ],
      "text/plain": [
       "            comp  energy_pa  volume_pa  magmom_pa  bandgap   delta_e  \\\n",
       "361271  Fe1Mn1O6  -5.705954    10.7402   0.375689    0.000 -0.692279   \n",
       "269091       Mn1  -9.026903    10.6840   0.096493    0.000  0.000000   \n",
       "346958     Na2O3  -4.088824    12.5533        NaN    0.000 -0.912622   \n",
       "434812     Fe1O3  -5.732222    10.4354   0.875159    0.000 -0.830062   \n",
       "33714      Na1O1  -4.194173    12.0642        NaN    1.959 -1.336257   \n",
       "\n",
       "        stability     comp_obj pretty_comp  nelems   system  \n",
       "361271   0.482018  (Fe, Mn, O)      MnFeO6       3  Fe-Mn-O  \n",
       "269091   0.000000         (Mn)          Mn       1       Mn  \n",
       "346958   0.285744      (Na, O)       Na2O3       2     Na-O  \n",
       "434812   0.204655      (Fe, O)        FeO3       2     Fe-O  \n",
       "33714   -0.081094      (Na, O)       Na2O2       2     Na-O  "
      ]
     },
     "execution_count": 13,
     "metadata": {},
     "output_type": "execute_result"
    }
   ],
   "source": [
    "test_set = get_test_data(my_system)\n",
    "print('Gathered a test set with %d entries'%len(test_set))\n",
    "test_set.sample(5)"
   ]
  },
  {
   "cell_type": "markdown",
   "metadata": {},
   "source": [
    "Measure the standard deviation and MAD of test set (useful for evaluating model performance)"
   ]
  },
  {
   "cell_type": "code",
   "execution_count": 14,
   "metadata": {},
   "outputs": [
    {
     "name": "stdout",
     "output_type": "stream",
     "text": [
      "MAD: 0.792 eV/atom\n",
      "Std Dev: 0.965 eV/atom\n"
     ]
    }
   ],
   "source": [
    "mad = np.abs(test_set['delta_e'] - test_set['delta_e'].mean()).mean()\n",
    "std = test_set['delta_e'].std()\n",
    "print('MAD: {:.3f} eV/atom'.format(mad))\n",
    "print('Std Dev: {:.3f} eV/atom'.format(std))"
   ]
  },
  {
   "cell_type": "markdown",
   "metadata": {},
   "source": [
    "Remove these entries from the dataset at large"
   ]
  },
  {
   "cell_type": "code",
   "execution_count": 15,
   "metadata": {},
   "outputs": [
    {
     "name": "stdout",
     "output_type": "stream",
     "text": [
      "Training set size is 275605 entries\n"
     ]
    }
   ],
   "source": [
    "train_set = oqmd_data.loc[oqmd_data.index.difference(test_set.index)]\n",
    "print('Training set size is %d entries'%len(train_set))"
   ]
  },
  {
   "cell_type": "markdown",
   "metadata": {},
   "source": [
    "### Save the data in Magpie-friendly format\n",
    "We will be using Magpie to generate features"
   ]
  },
  {
   "cell_type": "code",
   "execution_count": 16,
   "metadata": {
    "collapsed": true
   },
   "outputs": [],
   "source": [
    "def save_magpie(data, path):\n",
    "    \"\"\"Save a dataframe in a magpie-friendly format\n",
    "    \n",
    "    :param data: pd.DataFrame, data to be saved\n",
    "    :param path: str, output path\"\"\"\n",
    "    \n",
    "    data[['comp','delta_e']].to_csv(path, index=False, sep=' ')"
   ]
  },
  {
   "cell_type": "code",
   "execution_count": 17,
   "metadata": {
    "collapsed": true
   },
   "outputs": [],
   "source": [
    "save_magpie(test_set, os.path.join('datasets', '%s_test_set.data'%(''.join(my_system))))"
   ]
  },
  {
   "cell_type": "code",
   "execution_count": 18,
   "metadata": {
    "collapsed": true
   },
   "outputs": [],
   "source": [
    "save_magpie(train_set, os.path.join('datasets', '%s_train_set.data'%(''.join(my_system))))"
   ]
  },
  {
   "cell_type": "markdown",
   "metadata": {
    "collapsed": true
   },
   "source": [
    "## Generate the hold-pairwise out dataset"
   ]
  },
  {
   "cell_type": "code",
   "execution_count": 19,
   "metadata": {
    "collapsed": true
   },
   "outputs": [],
   "source": [
    "my_pair = ['Ti', 'O']"
   ]
  },
  {
   "cell_type": "code",
   "execution_count": 20,
   "metadata": {
    "collapsed": true
   },
   "outputs": [],
   "source": [
    "def get_test_data(elems):\n",
    "    \"\"\"Get the data that contains all of a certain set of elements.\n",
    "        \n",
    "    :param elems: iterable of strs, elems to exclude\n",
    "    :return: subset of OQMD in the constituent systems\"\"\"\n",
    "    \n",
    "    # Process the dataset\n",
    "    hit = oqmd_data['system'].apply(lambda x: all([e in x.split(\"-\") for e in elems]))\n",
    "    return oqmd_data[hit]"
   ]
  },
  {
   "cell_type": "code",
   "execution_count": 21,
   "metadata": {},
   "outputs": [
    {
     "name": "stdout",
     "output_type": "stream",
     "text": [
      "Gathered a test set with 561 entries\n"
     ]
    },
    {
     "data": {
      "text/html": [
       "<div>\n",
       "<style scoped>\n",
       "    .dataframe tbody tr th:only-of-type {\n",
       "        vertical-align: middle;\n",
       "    }\n",
       "\n",
       "    .dataframe tbody tr th {\n",
       "        vertical-align: top;\n",
       "    }\n",
       "\n",
       "    .dataframe thead th {\n",
       "        text-align: right;\n",
       "    }\n",
       "</style>\n",
       "<table border=\"1\" class=\"dataframe\">\n",
       "  <thead>\n",
       "    <tr style=\"text-align: right;\">\n",
       "      <th></th>\n",
       "      <th>comp</th>\n",
       "      <th>energy_pa</th>\n",
       "      <th>volume_pa</th>\n",
       "      <th>magmom_pa</th>\n",
       "      <th>bandgap</th>\n",
       "      <th>delta_e</th>\n",
       "      <th>stability</th>\n",
       "      <th>comp_obj</th>\n",
       "      <th>pretty_comp</th>\n",
       "      <th>nelems</th>\n",
       "      <th>system</th>\n",
       "    </tr>\n",
       "  </thead>\n",
       "  <tbody>\n",
       "    <tr>\n",
       "      <th>111840</th>\n",
       "      <td>Mg1O4Ti2</td>\n",
       "      <td>-8.069274</td>\n",
       "      <td>10.81370</td>\n",
       "      <td>0.162796</td>\n",
       "      <td>0.000</td>\n",
       "      <td>-3.082515</td>\n",
       "      <td>-0.008433</td>\n",
       "      <td>(Mg, O, Ti)</td>\n",
       "      <td>MgTi2O4</td>\n",
       "      <td>3</td>\n",
       "      <td>Mg-O-Ti</td>\n",
       "    </tr>\n",
       "    <tr>\n",
       "      <th>32013</th>\n",
       "      <td>O3Ti1Zn1</td>\n",
       "      <td>-7.095855</td>\n",
       "      <td>10.37400</td>\n",
       "      <td>-0.000065</td>\n",
       "      <td>2.955</td>\n",
       "      <td>-2.609167</td>\n",
       "      <td>-0.000974</td>\n",
       "      <td>(O, Ti, Zn)</td>\n",
       "      <td>TiZnO3</td>\n",
       "      <td>3</td>\n",
       "      <td>O-Ti-Zn</td>\n",
       "    </tr>\n",
       "    <tr>\n",
       "      <th>335163</th>\n",
       "      <td>Li3Nb3O12Ti2</td>\n",
       "      <td>-7.930633</td>\n",
       "      <td>9.69378</td>\n",
       "      <td>0.100056</td>\n",
       "      <td>0.000</td>\n",
       "      <td>-2.669838</td>\n",
       "      <td>0.189520</td>\n",
       "      <td>(Li, Nb, O, Ti)</td>\n",
       "      <td>Li3Ti2Nb3O12</td>\n",
       "      <td>4</td>\n",
       "      <td>Li-Nb-O-Ti</td>\n",
       "    </tr>\n",
       "    <tr>\n",
       "      <th>434912</th>\n",
       "      <td>O3Ti1</td>\n",
       "      <td>-7.426399</td>\n",
       "      <td>10.76590</td>\n",
       "      <td>0.125017</td>\n",
       "      <td>0.263</td>\n",
       "      <td>-2.113115</td>\n",
       "      <td>0.320940</td>\n",
       "      <td>(O, Ti)</td>\n",
       "      <td>TiO3</td>\n",
       "      <td>2</td>\n",
       "      <td>O-Ti</td>\n",
       "    </tr>\n",
       "    <tr>\n",
       "      <th>17410</th>\n",
       "      <td>Nd2O11Ti4</td>\n",
       "      <td>-8.719405</td>\n",
       "      <td>11.87590</td>\n",
       "      <td>NaN</td>\n",
       "      <td>3.098</td>\n",
       "      <td>-3.442313</td>\n",
       "      <td>-0.025459</td>\n",
       "      <td>(Nd, O, Ti)</td>\n",
       "      <td>Nd2Ti4O11</td>\n",
       "      <td>3</td>\n",
       "      <td>Nd-O-Ti</td>\n",
       "    </tr>\n",
       "  </tbody>\n",
       "</table>\n",
       "</div>"
      ],
      "text/plain": [
       "                comp  energy_pa  volume_pa  magmom_pa  bandgap   delta_e  \\\n",
       "111840      Mg1O4Ti2  -8.069274   10.81370   0.162796    0.000 -3.082515   \n",
       "32013       O3Ti1Zn1  -7.095855   10.37400  -0.000065    2.955 -2.609167   \n",
       "335163  Li3Nb3O12Ti2  -7.930633    9.69378   0.100056    0.000 -2.669838   \n",
       "434912         O3Ti1  -7.426399   10.76590   0.125017    0.263 -2.113115   \n",
       "17410      Nd2O11Ti4  -8.719405   11.87590        NaN    3.098 -3.442313   \n",
       "\n",
       "        stability         comp_obj   pretty_comp  nelems      system  \n",
       "111840  -0.008433      (Mg, O, Ti)       MgTi2O4       3     Mg-O-Ti  \n",
       "32013   -0.000974      (O, Ti, Zn)        TiZnO3       3     O-Ti-Zn  \n",
       "335163   0.189520  (Li, Nb, O, Ti)  Li3Ti2Nb3O12       4  Li-Nb-O-Ti  \n",
       "434912   0.320940          (O, Ti)          TiO3       2        O-Ti  \n",
       "17410   -0.025459      (Nd, O, Ti)     Nd2Ti4O11       3     Nd-O-Ti  "
      ]
     },
     "execution_count": 21,
     "metadata": {},
     "output_type": "execute_result"
    }
   ],
   "source": [
    "test_set = get_test_data(my_pair)\n",
    "print('Gathered a test set with %d entries'%len(test_set))\n",
    "test_set.sample(5)"
   ]
  },
  {
   "cell_type": "markdown",
   "metadata": {},
   "source": [
    "Measure the standard deviation and MAD of test set (useful for evaluating model performance)"
   ]
  },
  {
   "cell_type": "code",
   "execution_count": 22,
   "metadata": {},
   "outputs": [
    {
     "name": "stdout",
     "output_type": "stream",
     "text": [
      "MAD: 0.478 eV/atom\n",
      "Std Dev: 0.605 eV/atom\n"
     ]
    }
   ],
   "source": [
    "mad = np.abs(test_set['delta_e'] - test_set['delta_e'].mean()).mean()\n",
    "std = test_set['delta_e'].std()\n",
    "print('MAD: {:.3f} eV/atom'.format(mad))\n",
    "print('Std Dev: {:.3f} eV/atom'.format(std))"
   ]
  },
  {
   "cell_type": "markdown",
   "metadata": {},
   "source": [
    "Remove these entries from the dataset at large"
   ]
  },
  {
   "cell_type": "code",
   "execution_count": 23,
   "metadata": {},
   "outputs": [
    {
     "name": "stdout",
     "output_type": "stream",
     "text": [
      "Training set size is 275140 entries\n"
     ]
    }
   ],
   "source": [
    "train_set = oqmd_data.loc[oqmd_data.index.difference(test_set.index)]\n",
    "print('Training set size is %d entries'%len(train_set))"
   ]
  },
  {
   "cell_type": "markdown",
   "metadata": {},
   "source": [
    "Save the data"
   ]
  },
  {
   "cell_type": "code",
   "execution_count": 24,
   "metadata": {
    "collapsed": true
   },
   "outputs": [],
   "source": [
    "save_magpie(test_set, os.path.join('datasets', '%s_test_set.data'%('-'.join(my_pair))))"
   ]
  },
  {
   "cell_type": "code",
   "execution_count": 25,
   "metadata": {
    "collapsed": true
   },
   "outputs": [],
   "source": [
    "save_magpie(train_set, os.path.join('datasets', '%s_train_set.data'%('-'.join(my_pair))))"
   ]
  },
  {
   "cell_type": "code",
   "execution_count": null,
   "metadata": {
    "collapsed": true
   },
   "outputs": [],
   "source": []
  }
 ],
 "metadata": {
  "kernelspec": {
   "display_name": "Python 3",
   "language": "python",
   "name": "python3"
  },
  "language_info": {
   "codemirror_mode": {
    "name": "ipython",
    "version": 3
   },
   "file_extension": ".py",
   "mimetype": "text/x-python",
   "name": "python",
   "nbconvert_exporter": "python",
   "pygments_lexer": "ipython3",
   "version": "3.6.0"
  }
 },
 "nbformat": 4,
 "nbformat_minor": 2
}
