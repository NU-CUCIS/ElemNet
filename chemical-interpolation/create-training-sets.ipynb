{
 "cells": [
  {
   "cell_type": "markdown",
   "metadata": {},
   "source": [
    "# Create Training Sets for Chemical Interpolation Test\n",
    "The goal of this test is to determine whether machine learning models are able to infer the interactions between elements that are not included in the training set. We will set up two different tests, \n",
    "1. Exclude a single quaternary. Withhold all entries that contain exclusively elements from the target \n",
    "2. Exclude a certain pair interaction. Withhold all entries that contain both elements in a certain pair"
   ]
  },
  {
   "cell_type": "code",
   "execution_count": 1,
   "metadata": {
    "collapsed": true
   },
   "outputs": [],
   "source": [
    "%matplotlib inline\n",
    "from matplotlib import pyplot as plt\n",
    "from pymatgen import Composition\n",
    "from itertools import product\n",
    "import numpy as np\n",
    "import pandas as pd\n",
    "import os\n",
    "import shutil"
   ]
  },
  {
   "cell_type": "markdown",
   "metadata": {},
   "source": [
    "## Read in the OQMD dataset\n",
    "We want only the lowest-energy entry at each composition"
   ]
  },
  {
   "cell_type": "code",
   "execution_count": 2,
   "metadata": {},
   "outputs": [
    {
     "name": "stdout",
     "output_type": "stream",
     "text": [
      "Read 506114 entries\n"
     ]
    },
    {
     "name": "stderr",
     "output_type": "stream",
     "text": [
      "/usr/local/lib/python3.6/site-packages/IPython/core/interactiveshell.py:3020: DtypeWarning: Columns (1,2) have mixed types. Specify dtype option on import or set low_memory=False.\n",
      "  interactivity=interactivity, compiler=compiler, result=result)\n"
     ]
    },
    {
     "data": {
      "text/plain": [
       "(506114, 7)"
      ]
     },
     "execution_count": 2,
     "metadata": {},
     "output_type": "execute_result"
    }
   ],
   "source": [
    "oqmd_data = pd.read_csv(os.path.join('..', 'training-data/oqmd_all.data'), delim_whitespace=True)\n",
    "print('Read %d entries'%len(oqmd_data))\n",
    "oqmd_data.head()\n",
    "oqmd_data.shape"
   ]
  },
  {
   "cell_type": "markdown",
   "metadata": {},
   "source": [
    "Make all of the energies numeric"
   ]
  },
  {
   "cell_type": "code",
   "execution_count": 3,
   "metadata": {
    "collapsed": true
   },
   "outputs": [],
   "source": [
    "for col in oqmd_data.columns:\n",
    "    if col == 'comp': continue\n",
    "    oqmd_data[col] = pd.to_numeric(oqmd_data[col], errors='coerce')"
   ]
  },
  {
   "cell_type": "markdown",
   "metadata": {},
   "source": [
    "Eliminate entries with weird formation enthalpies"
   ]
  },
  {
   "cell_type": "code",
   "execution_count": 4,
   "metadata": {
    "collapsed": true
   },
   "outputs": [],
   "source": [
    "oqmd_data.query('delta_e > -20 and delta_e < 5', inplace=True)"
   ]
  },
  {
   "cell_type": "markdown",
   "metadata": {},
   "source": [
    "Generate the composition object of each entry"
   ]
  },
  {
   "cell_type": "code",
   "execution_count": 5,
   "metadata": {
    "collapsed": true
   },
   "outputs": [],
   "source": [
    "oqmd_data['comp_obj'] = oqmd_data['comp'].apply(lambda x: Composition(x))"
   ]
  },
  {
   "cell_type": "code",
   "execution_count": 6,
   "metadata": {
    "scrolled": true
   },
   "outputs": [
    {
     "name": "stderr",
     "output_type": "stream",
     "text": [
      "/usr/local/lib/python3.6/site-packages/pymatgen/core/periodic_table.py:429: UserWarning: No electronegativity for Ne. Setting to NaN. This has no physical meaning, and is mainly done to avoid errors caused by the code expecting a float.\n",
      "  % self.symbol)\n",
      "/usr/local/lib/python3.6/site-packages/pymatgen/core/periodic_table.py:429: UserWarning: No electronegativity for He. Setting to NaN. This has no physical meaning, and is mainly done to avoid errors caused by the code expecting a float.\n",
      "  % self.symbol)\n",
      "/usr/local/lib/python3.6/site-packages/pymatgen/core/periodic_table.py:429: UserWarning: No electronegativity for Ar. Setting to NaN. This has no physical meaning, and is mainly done to avoid errors caused by the code expecting a float.\n",
      "  % self.symbol)\n"
     ]
    }
   ],
   "source": [
    "oqmd_data['pretty_comp'] = oqmd_data['comp_obj'].apply(lambda x: x.reduced_formula)"
   ]
  },
  {
   "cell_type": "markdown",
   "metadata": {},
   "source": [
    "Get only the lowest-energy entry at each composition"
   ]
  },
  {
   "cell_type": "code",
   "execution_count": 7,
   "metadata": {},
   "outputs": [
    {
     "name": "stdout",
     "output_type": "stream",
     "text": [
      "Reduced dataset to 275701 entries\n"
     ]
    }
   ],
   "source": [
    "oqmd_data.sort_values('delta_e', ascending=True, inplace=True)\n",
    "oqmd_data.drop_duplicates('pretty_comp', keep='first', inplace=True)\n",
    "print('Reduced dataset to %d entries'%len(oqmd_data))"
   ]
  },
  {
   "cell_type": "markdown",
   "metadata": {},
   "source": [
    "## Identify the systems with large numbers of entries\n",
    "We want to find a system with a large amount of testing data"
   ]
  },
  {
   "cell_type": "code",
   "execution_count": 8,
   "metadata": {
    "collapsed": true
   },
   "outputs": [],
   "source": [
    "oqmd_data['nelems'] = oqmd_data['comp_obj'].apply(lambda x: len(x))"
   ]
  },
  {
   "cell_type": "code",
   "execution_count": 9,
   "metadata": {
    "collapsed": true
   },
   "outputs": [],
   "source": [
    "oqmd_data['system'] = oqmd_data['comp_obj'].apply(lambda x: \"-\".join([y.symbol for y in x]))"
   ]
  },
  {
   "cell_type": "markdown",
   "metadata": {},
   "source": [
    "Get the top-10 most frequent systems"
   ]
  },
  {
   "cell_type": "code",
   "execution_count": 10,
   "metadata": {},
   "outputs": [
    {
     "data": {
      "text/plain": [
       "Mn-Na-O    20\n",
       "O-V        18\n",
       "O-Ti       18\n",
       "H-O-V      17\n",
       "Li-O-V     17\n",
       "Fe-Na-O    17\n",
       "C-H-N-O    16\n",
       "Na-O-V     16\n",
       "Li-Mn-O    16\n",
       "Al-Mg      16\n",
       "Name: system, dtype: int64"
      ]
     },
     "execution_count": 10,
     "metadata": {},
     "output_type": "execute_result"
    }
   ],
   "source": [
    "oqmd_data['system'].value_counts()[:10]"
   ]
  },
  {
   "cell_type": "markdown",
   "metadata": {},
   "source": [
    "*Finding*: Mn-Na-O and Fe-Na-O are the most common ternaries. So, let's choose the Na-Fe-Mn-O quaternary as a hold-out. Also, there are a large number of Ti-O binary compounds, so let's use that one as the pairwise interaction holdout"
   ]
  },
  {
   "cell_type": "markdown",
   "metadata": {},
   "source": [
    "## Exclude a Quaternary Diagram\n",
    "Exclude the NaFeMnO data as the hold-out set"
   ]
  },
  {
   "cell_type": "code",
   "execution_count": 11,
   "metadata": {
    "collapsed": true
   },
   "outputs": [],
   "source": [
    "my_system = [\"Na\", \"Fe\", \"Mn\", \"O\"]"
   ]
  },
  {
   "cell_type": "code",
   "execution_count": 12,
   "metadata": {
    "collapsed": true
   },
   "outputs": [],
   "source": [
    "def get_test_data(elems):\n",
    "    \"\"\"Get the data that is in any of the phase diagrams that are subsets of a certain system\n",
    "    \n",
    "    Ex: For Na-Fe-O, these are Na-Fe-O, Na-Fe, Na-O, Fe-O, Na-Fe, Na, Fe, O\n",
    "    \n",
    "    :param elems: iterable of strs, phase diagram of interest\n",
    "    :return: subset of OQMD in the constituent systems\"\"\"\n",
    "    \n",
    "    # Generate the constituent systems\n",
    "    systems = set()\n",
    "    for comb in product(*[elems,]*len(elems)):\n",
    "        sys = \"-\".join(sorted(set(comb)))\n",
    "        systems.add(sys)\n",
    "    \n",
    "    # Query for the data\n",
    "    return oqmd_data.query(' or '.join('system==\"%s\"'%s for s in systems))"
   ]
  },
  {
   "cell_type": "code",
   "execution_count": 13,
   "metadata": {},
   "outputs": [
    {
     "name": "stdout",
     "output_type": "stream",
     "text": [
      "Gathered a test set with 96 entries\n"
     ]
    },
    {
     "data": {
      "text/html": [
       "<div>\n",
       "<style scoped>\n",
       "    .dataframe tbody tr th:only-of-type {\n",
       "        vertical-align: middle;\n",
       "    }\n",
       "\n",
       "    .dataframe tbody tr th {\n",
       "        vertical-align: top;\n",
       "    }\n",
       "\n",
       "    .dataframe thead th {\n",
       "        text-align: right;\n",
       "    }\n",
       "</style>\n",
       "<table border=\"1\" class=\"dataframe\">\n",
       "  <thead>\n",
       "    <tr style=\"text-align: right;\">\n",
       "      <th></th>\n",
       "      <th>comp</th>\n",
       "      <th>energy_pa</th>\n",
       "      <th>volume_pa</th>\n",
       "      <th>magmom_pa</th>\n",
       "      <th>bandgap</th>\n",
       "      <th>delta_e</th>\n",
       "      <th>stability</th>\n",
       "      <th>comp_obj</th>\n",
       "      <th>pretty_comp</th>\n",
       "      <th>nelems</th>\n",
       "      <th>system</th>\n",
       "    </tr>\n",
       "  </thead>\n",
       "  <tbody>\n",
       "    <tr>\n",
       "      <th>357241</th>\n",
       "      <td>Mn4O5</td>\n",
       "      <td>-7.315486</td>\n",
       "      <td>11.4666</td>\n",
       "      <td>2.000249</td>\n",
       "      <td>0.000</td>\n",
       "      <td>-1.717088</td>\n",
       "      <td>0.347496</td>\n",
       "      <td>(Mn, O)</td>\n",
       "      <td>Mn4O5</td>\n",
       "      <td>2</td>\n",
       "      <td>Mn-O</td>\n",
       "    </tr>\n",
       "    <tr>\n",
       "      <th>363586</th>\n",
       "      <td>Mn1Na2O3</td>\n",
       "      <td>-5.699281</td>\n",
       "      <td>10.5098</td>\n",
       "      <td>0.500015</td>\n",
       "      <td>1.632</td>\n",
       "      <td>-1.882803</td>\n",
       "      <td>-0.077266</td>\n",
       "      <td>(Mn, Na, O)</td>\n",
       "      <td>Na2MnO3</td>\n",
       "      <td>3</td>\n",
       "      <td>Mn-Na-O</td>\n",
       "    </tr>\n",
       "    <tr>\n",
       "      <th>336692</th>\n",
       "      <td>Mn2Na4O5</td>\n",
       "      <td>-5.619245</td>\n",
       "      <td>12.0610</td>\n",
       "      <td>0.727329</td>\n",
       "      <td>0.738</td>\n",
       "      <td>-1.863454</td>\n",
       "      <td>-0.000989</td>\n",
       "      <td>(Mn, Na, O)</td>\n",
       "      <td>Na4Mn2O5</td>\n",
       "      <td>3</td>\n",
       "      <td>Mn-Na-O</td>\n",
       "    </tr>\n",
       "    <tr>\n",
       "      <th>386530</th>\n",
       "      <td>Fe1O4</td>\n",
       "      <td>-5.033725</td>\n",
       "      <td>11.8043</td>\n",
       "      <td>0.000003</td>\n",
       "      <td>0.948</td>\n",
       "      <td>-0.208641</td>\n",
       "      <td>0.619132</td>\n",
       "      <td>(Fe, O)</td>\n",
       "      <td>FeO4</td>\n",
       "      <td>2</td>\n",
       "      <td>Fe-O</td>\n",
       "    </tr>\n",
       "    <tr>\n",
       "      <th>363596</th>\n",
       "      <td>Mn4Na8O11</td>\n",
       "      <td>-5.649265</td>\n",
       "      <td>11.3401</td>\n",
       "      <td>0.608702</td>\n",
       "      <td>1.009</td>\n",
       "      <td>-1.863235</td>\n",
       "      <td>0.010312</td>\n",
       "      <td>(Mn, Na, O)</td>\n",
       "      <td>Na8Mn4O11</td>\n",
       "      <td>3</td>\n",
       "      <td>Mn-Na-O</td>\n",
       "    </tr>\n",
       "  </tbody>\n",
       "</table>\n",
       "</div>"
      ],
      "text/plain": [
       "             comp  energy_pa  volume_pa  magmom_pa  bandgap   delta_e  \\\n",
       "357241      Mn4O5  -7.315486    11.4666   2.000249    0.000 -1.717088   \n",
       "363586   Mn1Na2O3  -5.699281    10.5098   0.500015    1.632 -1.882803   \n",
       "336692   Mn2Na4O5  -5.619245    12.0610   0.727329    0.738 -1.863454   \n",
       "386530      Fe1O4  -5.033725    11.8043   0.000003    0.948 -0.208641   \n",
       "363596  Mn4Na8O11  -5.649265    11.3401   0.608702    1.009 -1.863235   \n",
       "\n",
       "        stability     comp_obj pretty_comp  nelems   system  \n",
       "357241   0.347496      (Mn, O)       Mn4O5       2     Mn-O  \n",
       "363586  -0.077266  (Mn, Na, O)     Na2MnO3       3  Mn-Na-O  \n",
       "336692  -0.000989  (Mn, Na, O)    Na4Mn2O5       3  Mn-Na-O  \n",
       "386530   0.619132      (Fe, O)        FeO4       2     Fe-O  \n",
       "363596   0.010312  (Mn, Na, O)   Na8Mn4O11       3  Mn-Na-O  "
      ]
     },
     "execution_count": 13,
     "metadata": {},
     "output_type": "execute_result"
    }
   ],
   "source": [
    "test_set = get_test_data(my_system)\n",
    "print('Gathered a test set with %d entries'%len(test_set))\n",
    "test_set.sample(5)"
   ]
  },
  {
   "cell_type": "markdown",
   "metadata": {},
   "source": [
    "Measure the standard deviation and MAD of test set (useful for evaluating model performance)"
   ]
  },
  {
   "cell_type": "code",
   "execution_count": 14,
   "metadata": {},
   "outputs": [
    {
     "name": "stdout",
     "output_type": "stream",
     "text": [
      "MAD: 0.792 eV/atom\n",
      "Std Dev: 0.965 eV/atom\n"
     ]
    }
   ],
   "source": [
    "mad = np.abs(test_set['delta_e'] - test_set['delta_e'].mean()).mean()\n",
    "std = test_set['delta_e'].std()\n",
    "print('MAD: {:.3f} eV/atom'.format(mad))\n",
    "print('Std Dev: {:.3f} eV/atom'.format(std))"
   ]
  },
  {
   "cell_type": "markdown",
   "metadata": {},
   "source": [
    "Remove these entries from the dataset at large"
   ]
  },
  {
   "cell_type": "code",
   "execution_count": 15,
   "metadata": {},
   "outputs": [
    {
     "name": "stdout",
     "output_type": "stream",
     "text": [
      "Training set size is 275605 entries\n"
     ]
    }
   ],
   "source": [
    "train_set = oqmd_data.loc[oqmd_data.index.difference(test_set.index)]\n",
    "print('Training set size is %d entries'%len(train_set))"
   ]
  },
  {
   "cell_type": "markdown",
   "metadata": {},
   "source": [
    "### Save the data in Magpie-friendly format\n",
    "We will be using Magpie to generate features"
   ]
  },
  {
   "cell_type": "code",
   "execution_count": 16,
   "metadata": {
    "collapsed": true
   },
   "outputs": [],
   "source": [
    "def save_magpie(data, path):\n",
    "    \"\"\"Save a dataframe in a magpie-friendly format\n",
    "    \n",
    "    :param data: pd.DataFrame, data to be saved\n",
    "    :param path: str, output path\"\"\"\n",
    "    \n",
    "    data[['comp','delta_e']].to_csv(path, index=False, sep=' ')"
   ]
  },
  {
   "cell_type": "code",
   "execution_count": 17,
   "metadata": {
    "collapsed": true
   },
   "outputs": [],
   "source": [
    "save_magpie(test_set, os.path.join('datasets', '%s_test_set.data'%(''.join(my_system))))"
   ]
  },
  {
   "cell_type": "code",
   "execution_count": 18,
   "metadata": {
    "collapsed": true
   },
   "outputs": [],
   "source": [
    "save_magpie(train_set, os.path.join('datasets', '%s_train_set.data'%(''.join(my_system))))"
   ]
  },
  {
   "cell_type": "markdown",
   "metadata": {},
   "source": [
    "## Generate the hold-pairwise out dataset"
   ]
  },
  {
   "cell_type": "code",
   "execution_count": 19,
   "metadata": {
    "collapsed": true
   },
   "outputs": [],
   "source": [
    "my_pair = ['Ti', 'O']"
   ]
  },
  {
   "cell_type": "code",
   "execution_count": 20,
   "metadata": {
    "collapsed": true
   },
   "outputs": [],
   "source": [
    "def get_test_data(elems):\n",
    "    \"\"\"Get the data that contains all of a certain set of elements.\n",
    "        \n",
    "    :param elems: iterable of strs, elems to exclude\n",
    "    :return: subset of OQMD in the constituent systems\"\"\"\n",
    "    \n",
    "    # Process the dataset\n",
    "    hit = oqmd_data['system'].apply(lambda x: all([e in x.split(\"-\") for e in elems]))\n",
    "    return oqmd_data[hit]"
   ]
  },
  {
   "cell_type": "code",
   "execution_count": 21,
   "metadata": {},
   "outputs": [
    {
     "name": "stdout",
     "output_type": "stream",
     "text": [
      "Gathered a test set with 561 entries\n"
     ]
    },
    {
     "data": {
      "text/html": [
       "<div>\n",
       "<style scoped>\n",
       "    .dataframe tbody tr th:only-of-type {\n",
       "        vertical-align: middle;\n",
       "    }\n",
       "\n",
       "    .dataframe tbody tr th {\n",
       "        vertical-align: top;\n",
       "    }\n",
       "\n",
       "    .dataframe thead th {\n",
       "        text-align: right;\n",
       "    }\n",
       "</style>\n",
       "<table border=\"1\" class=\"dataframe\">\n",
       "  <thead>\n",
       "    <tr style=\"text-align: right;\">\n",
       "      <th></th>\n",
       "      <th>comp</th>\n",
       "      <th>energy_pa</th>\n",
       "      <th>volume_pa</th>\n",
       "      <th>magmom_pa</th>\n",
       "      <th>bandgap</th>\n",
       "      <th>delta_e</th>\n",
       "      <th>stability</th>\n",
       "      <th>comp_obj</th>\n",
       "      <th>pretty_comp</th>\n",
       "      <th>nelems</th>\n",
       "      <th>system</th>\n",
       "    </tr>\n",
       "  </thead>\n",
       "  <tbody>\n",
       "    <tr>\n",
       "      <th>361895</th>\n",
       "      <td>Co2O5Ti2</td>\n",
       "      <td>-7.384125</td>\n",
       "      <td>11.2636</td>\n",
       "      <td>0.557531</td>\n",
       "      <td>0.000</td>\n",
       "      <td>-2.045327</td>\n",
       "      <td>0.501164</td>\n",
       "      <td>(Co, O, Ti)</td>\n",
       "      <td>Ti2Co2O5</td>\n",
       "      <td>3</td>\n",
       "      <td>Co-O-Ti</td>\n",
       "    </tr>\n",
       "    <tr>\n",
       "      <th>144180</th>\n",
       "      <td>O3Ti1V1</td>\n",
       "      <td>-7.850653</td>\n",
       "      <td>11.2429</td>\n",
       "      <td>0.599952</td>\n",
       "      <td>0.000</td>\n",
       "      <td>-2.350284</td>\n",
       "      <td>0.563975</td>\n",
       "      <td>(O, Ti, V)</td>\n",
       "      <td>TiVO3</td>\n",
       "      <td>3</td>\n",
       "      <td>O-Ti-V</td>\n",
       "    </tr>\n",
       "    <tr>\n",
       "      <th>338660</th>\n",
       "      <td>Li1O3Ti1</td>\n",
       "      <td>-7.083249</td>\n",
       "      <td>10.1925</td>\n",
       "      <td>0.200007</td>\n",
       "      <td>0.000</td>\n",
       "      <td>-2.470445</td>\n",
       "      <td>0.210412</td>\n",
       "      <td>(Li, O, Ti)</td>\n",
       "      <td>LiTiO3</td>\n",
       "      <td>3</td>\n",
       "      <td>Li-O-Ti</td>\n",
       "    </tr>\n",
       "    <tr>\n",
       "      <th>33310</th>\n",
       "      <td>O2P1Ti3</td>\n",
       "      <td>-8.219338</td>\n",
       "      <td>11.4678</td>\n",
       "      <td>0.004111</td>\n",
       "      <td>0.000</td>\n",
       "      <td>-2.007836</td>\n",
       "      <td>0.281785</td>\n",
       "      <td>(O, P, Ti)</td>\n",
       "      <td>Ti3PO2</td>\n",
       "      <td>3</td>\n",
       "      <td>O-P-Ti</td>\n",
       "    </tr>\n",
       "    <tr>\n",
       "      <th>346592</th>\n",
       "      <td>Ba2O4Ti1</td>\n",
       "      <td>-7.441456</td>\n",
       "      <td>17.6697</td>\n",
       "      <td>-0.000132</td>\n",
       "      <td>4.344</td>\n",
       "      <td>-3.210461</td>\n",
       "      <td>NaN</td>\n",
       "      <td>(Ba, O, Ti)</td>\n",
       "      <td>Ba2TiO4</td>\n",
       "      <td>3</td>\n",
       "      <td>Ba-O-Ti</td>\n",
       "    </tr>\n",
       "  </tbody>\n",
       "</table>\n",
       "</div>"
      ],
      "text/plain": [
       "            comp  energy_pa  volume_pa  magmom_pa  bandgap   delta_e  \\\n",
       "361895  Co2O5Ti2  -7.384125    11.2636   0.557531    0.000 -2.045327   \n",
       "144180   O3Ti1V1  -7.850653    11.2429   0.599952    0.000 -2.350284   \n",
       "338660  Li1O3Ti1  -7.083249    10.1925   0.200007    0.000 -2.470445   \n",
       "33310    O2P1Ti3  -8.219338    11.4678   0.004111    0.000 -2.007836   \n",
       "346592  Ba2O4Ti1  -7.441456    17.6697  -0.000132    4.344 -3.210461   \n",
       "\n",
       "        stability     comp_obj pretty_comp  nelems   system  \n",
       "361895   0.501164  (Co, O, Ti)    Ti2Co2O5       3  Co-O-Ti  \n",
       "144180   0.563975   (O, Ti, V)       TiVO3       3   O-Ti-V  \n",
       "338660   0.210412  (Li, O, Ti)      LiTiO3       3  Li-O-Ti  \n",
       "33310    0.281785   (O, P, Ti)      Ti3PO2       3   O-P-Ti  \n",
       "346592        NaN  (Ba, O, Ti)     Ba2TiO4       3  Ba-O-Ti  "
      ]
     },
     "execution_count": 21,
     "metadata": {},
     "output_type": "execute_result"
    }
   ],
   "source": [
    "test_set = get_test_data(my_pair)\n",
    "print('Gathered a test set with %d entries'%len(test_set))\n",
    "test_set.sample(5)"
   ]
  },
  {
   "cell_type": "markdown",
   "metadata": {},
   "source": [
    "Measure the standard deviation and MAD of test set (useful for evaluating model performance)"
   ]
  },
  {
   "cell_type": "code",
   "execution_count": 22,
   "metadata": {},
   "outputs": [
    {
     "name": "stdout",
     "output_type": "stream",
     "text": [
      "MAD: 0.478 eV/atom\n",
      "Std Dev: 0.605 eV/atom\n"
     ]
    }
   ],
   "source": [
    "mad = np.abs(test_set['delta_e'] - test_set['delta_e'].mean()).mean()\n",
    "std = test_set['delta_e'].std()\n",
    "print('MAD: {:.3f} eV/atom'.format(mad))\n",
    "print('Std Dev: {:.3f} eV/atom'.format(std))"
   ]
  },
  {
   "cell_type": "markdown",
   "metadata": {},
   "source": [
    "Remove these entries from the dataset at large"
   ]
  },
  {
   "cell_type": "code",
   "execution_count": 23,
   "metadata": {},
   "outputs": [
    {
     "name": "stdout",
     "output_type": "stream",
     "text": [
      "Training set size is 275140 entries\n"
     ]
    }
   ],
   "source": [
    "train_set = oqmd_data.loc[oqmd_data.index.difference(test_set.index)]\n",
    "print('Training set size is %d entries'%len(train_set))"
   ]
  },
  {
   "cell_type": "markdown",
   "metadata": {},
   "source": [
    "Save the data"
   ]
  },
  {
   "cell_type": "code",
   "execution_count": 24,
   "metadata": {
    "collapsed": true
   },
   "outputs": [],
   "source": [
    "save_magpie(test_set, os.path.join('datasets', '%s_test_set.data'%('-'.join(my_pair))))"
   ]
  },
  {
   "cell_type": "code",
   "execution_count": 25,
   "metadata": {
    "collapsed": true
   },
   "outputs": [],
   "source": [
    "save_magpie(train_set, os.path.join('datasets', '%s_train_set.data'%('-'.join(my_pair))))"
   ]
  },
  {
   "cell_type": "code",
   "execution_count": null,
   "metadata": {
    "collapsed": true
   },
   "outputs": [],
   "source": []
  }
 ],
 "metadata": {
  "kernelspec": {
   "display_name": "Python 3",
   "language": "python",
   "name": "python3"
  },
  "language_info": {
   "codemirror_mode": {
    "name": "ipython",
    "version": 3
   },
   "file_extension": ".py",
   "mimetype": "text/x-python",
   "name": "python",
   "nbconvert_exporter": "python",
   "pygments_lexer": "ipython3",
   "version": "3.6.3"
  }
 },
 "nbformat": 4,
 "nbformat_minor": 2
}
