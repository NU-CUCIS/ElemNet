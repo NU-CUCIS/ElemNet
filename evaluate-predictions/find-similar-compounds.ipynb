{
 "cells": [
  {
   "cell_type": "markdown",
   "metadata": {},
   "source": [
    "# Find Similar Compounds\n",
    "Given our list of \"interesting\" compounds, see if we can find any similar stable compounds in the OQMD"
   ]
  },
  {
   "cell_type": "code",
   "execution_count": 1,
   "metadata": {
    "collapsed": true
   },
   "outputs": [],
   "source": [
    "from pymatgen import Composition\n",
    "import pandas as pd\n",
    "import json"
   ]
  },
  {
   "cell_type": "markdown",
   "metadata": {},
   "source": [
    "## Load in Stable Compounds from OQMD\n",
    "Reading from the datafile that was used to generate the training set for the DL model."
   ]
  },
  {
   "cell_type": "code",
   "execution_count": 2,
   "metadata": {
    "collapsed": false
   },
   "outputs": [
    {
     "name": "stdout",
     "output_type": "stream",
     "text": [
      "Read 506114 entries\n"
     ]
    },
    {
     "name": "stderr",
     "output_type": "stream",
     "text": [
      "C:\\Users\\ward6\\AppData\\Local\\Continuum\\Miniconda3\\lib\\site-packages\\IPython\\core\\interactiveshell.py:2717: DtypeWarning: Columns (1,2) have mixed types. Specify dtype option on import or set low_memory=False.\n",
      "  interactivity=interactivity, compiler=compiler, result=result)\n"
     ]
    }
   ],
   "source": [
    "oqmd_all = pd.read_csv('oqmd_all.txt', delim_whitespace=True)\n",
    "print('Read %d entries'%len(oqmd_all))"
   ]
  },
  {
   "cell_type": "code",
   "execution_count": 3,
   "metadata": {
    "collapsed": true
   },
   "outputs": [],
   "source": [
    "oqmd_all['stability'] = pd.to_numeric(oqmd_all['stability'], 'coerce')"
   ]
  },
  {
   "cell_type": "code",
   "execution_count": 4,
   "metadata": {
    "collapsed": false
   },
   "outputs": [
    {
     "name": "stdout",
     "output_type": "stream",
     "text": [
      "21947 stable compounds\n"
     ]
    }
   ],
   "source": [
    "oqmd_all.query('stability <= 0', inplace=True)\n",
    "print('%d stable compounds'%len(oqmd_all))"
   ]
  },
  {
   "cell_type": "markdown",
   "metadata": {},
   "source": [
    "### Generate Lookup Values for Each Entry\n",
    "Classify each entry by the stoichiometry and group of each element. Examples:\n",
    "- NaCl is 50% of a group 1 element and 50% of group 17\n",
    "- NaKCl2 is 25% of two different group 1 elements and 50% of a group 17 element"
   ]
  },
  {
   "cell_type": "code",
   "execution_count": 5,
   "metadata": {
    "collapsed": false
   },
   "outputs": [],
   "source": [
    "oqmd_all['comp_obj'] = [Composition(x) for x in oqmd_all['comp']]"
   ]
  },
  {
   "cell_type": "markdown",
   "metadata": {},
   "source": [
    "Compute lookup values"
   ]
  },
  {
   "cell_type": "code",
   "execution_count": 6,
   "metadata": {
    "collapsed": true
   },
   "outputs": [],
   "source": [
    "def get_prototype(comp):\n",
    "    return tuple(sorted((e.group, y) for e,y in comp.fractional_composition.items())) "
   ]
  },
  {
   "cell_type": "code",
   "execution_count": 7,
   "metadata": {
    "collapsed": false
   },
   "outputs": [],
   "source": [
    "oqmd_all['prototype'] = oqmd_all['comp_obj'].apply(get_prototype)"
   ]
  },
  {
   "cell_type": "markdown",
   "metadata": {},
   "source": [
    "Get list of examples for each prototype"
   ]
  },
  {
   "cell_type": "code",
   "execution_count": 8,
   "metadata": {
    "collapsed": false
   },
   "outputs": [
    {
     "name": "stderr",
     "output_type": "stream",
     "text": [
      "C:\\Users\\ward6\\AppData\\Local\\Continuum\\Miniconda3\\lib\\site-packages\\pymatgen\\core\\periodic_table.py:398: UserWarning: No electronegativity for Ne. Setting to infinity. This has no physical meaning, and is mainly done to avoid errors caused by the code expecting a float.\n",
      "  % self.symbol)\n",
      "C:\\Users\\ward6\\AppData\\Local\\Continuum\\Miniconda3\\lib\\site-packages\\pymatgen\\core\\periodic_table.py:398: UserWarning: No electronegativity for Ar. Setting to infinity. This has no physical meaning, and is mainly done to avoid errors caused by the code expecting a float.\n",
      "  % self.symbol)\n",
      "C:\\Users\\ward6\\AppData\\Local\\Continuum\\Miniconda3\\lib\\site-packages\\pymatgen\\core\\periodic_table.py:398: UserWarning: No electronegativity for He. Setting to infinity. This has no physical meaning, and is mainly done to avoid errors caused by the code expecting a float.\n",
      "  % self.symbol)\n"
     ]
    }
   ],
   "source": [
    "prototypes = dict([(x,[c.get_integer_formula_and_factor()[0] for c in group['comp_obj']]) \n",
    "                   for x,group in oqmd_all.groupby('prototype')])"
   ]
  },
  {
   "cell_type": "code",
   "execution_count": 9,
   "metadata": {
    "collapsed": false
   },
   "outputs": [
    {
     "name": "stdout",
     "output_type": "stream",
     "text": [
      "Found 9211 prototypes\n"
     ]
    }
   ],
   "source": [
    "print('Found %d prototypes'%len(prototypes))"
   ]
  },
  {
   "cell_type": "markdown",
   "metadata": {},
   "source": [
    "## Find if Interesting Compositions are Similar to those in the OQMD\n",
    "Use the prototype list we worked up earlier"
   ]
  },
  {
   "cell_type": "code",
   "execution_count": 10,
   "metadata": {
    "collapsed": false
   },
   "outputs": [],
   "source": [
    "interesting_list = json.load(open('interesting_compounds.list'))"
   ]
  },
  {
   "cell_type": "code",
   "execution_count": 11,
   "metadata": {
    "collapsed": false
   },
   "outputs": [],
   "source": [
    "interesting_list = pd.DataFrame({'composition': interesting_list})"
   ]
  },
  {
   "cell_type": "code",
   "execution_count": 12,
   "metadata": {
    "collapsed": false
   },
   "outputs": [],
   "source": [
    "interesting_list['comp_obj'] = [Composition(x) for x in interesting_list['composition']]"
   ]
  },
  {
   "cell_type": "code",
   "execution_count": 13,
   "metadata": {
    "collapsed": true
   },
   "outputs": [],
   "source": [
    "interesting_list['prototype'] = interesting_list['comp_obj'].apply(get_prototype)"
   ]
  },
  {
   "cell_type": "code",
   "execution_count": 14,
   "metadata": {
    "collapsed": false
   },
   "outputs": [],
   "source": [
    "interesting_list['similiar'] = [prototypes.get(x,[]) for x in interesting_list['prototype']]"
   ]
  },
  {
   "cell_type": "markdown",
   "metadata": {},
   "source": [
    "The following table shows similar compounds to those from our DL predictions. Each example \"similar\" structure is a stable compound in the OQMD"
   ]
  },
  {
   "cell_type": "code",
   "execution_count": 15,
   "metadata": {
    "collapsed": false
   },
   "outputs": [
    {
     "data": {
      "text/html": [
       "<div>\n",
       "<style>\n",
       "    .dataframe thead tr:only-child th {\n",
       "        text-align: right;\n",
       "    }\n",
       "\n",
       "    .dataframe thead th {\n",
       "        text-align: left;\n",
       "    }\n",
       "\n",
       "    .dataframe tbody tr th {\n",
       "        vertical-align: top;\n",
       "    }\n",
       "</style>\n",
       "<table border=\"1\" class=\"dataframe\">\n",
       "  <thead>\n",
       "    <tr style=\"text-align: right;\">\n",
       "      <th></th>\n",
       "      <th>composition</th>\n",
       "      <th>comp_obj</th>\n",
       "      <th>prototype</th>\n",
       "      <th>similiar</th>\n",
       "    </tr>\n",
       "  </thead>\n",
       "  <tbody>\n",
       "    <tr>\n",
       "      <th>0</th>\n",
       "      <td>KSc2Br7</td>\n",
       "      <td>(K, Sc, Br)</td>\n",
       "      <td>((1, 0.1), (3, 0.2), (17, 0.7))</td>\n",
       "      <td>[KSc2F7]</td>\n",
       "    </tr>\n",
       "    <tr>\n",
       "      <th>1</th>\n",
       "      <td>KHfBr5</td>\n",
       "      <td>(K, Hf, Br)</td>\n",
       "      <td>((1, 0.14285714285714285), (4, 0.1428571428571...</td>\n",
       "      <td>[RbHfF5]</td>\n",
       "    </tr>\n",
       "    <tr>\n",
       "      <th>2</th>\n",
       "      <td>CsNa2CdF4</td>\n",
       "      <td>(Cs, Na, Cd, F)</td>\n",
       "      <td>((1, 0.125), (1, 0.25), (12, 0.125), (17, 0.5))</td>\n",
       "      <td>[]</td>\n",
       "    </tr>\n",
       "    <tr>\n",
       "      <th>3</th>\n",
       "      <td>Na2CrPbF5</td>\n",
       "      <td>(Na, Cr, Pb, F)</td>\n",
       "      <td>((1, 0.2222222222222222), (6, 0.11111111111111...</td>\n",
       "      <td>[]</td>\n",
       "    </tr>\n",
       "    <tr>\n",
       "      <th>4</th>\n",
       "      <td>K2W2N5</td>\n",
       "      <td>(K, W, N)</td>\n",
       "      <td>((1, 0.2222222222222222), (6, 0.22222222222222...</td>\n",
       "      <td>[]</td>\n",
       "    </tr>\n",
       "    <tr>\n",
       "      <th>5</th>\n",
       "      <td>LiTi4N5</td>\n",
       "      <td>(Li, Ti, N)</td>\n",
       "      <td>((1, 0.1), (4, 0.4), (15, 0.5))</td>\n",
       "      <td>[]</td>\n",
       "    </tr>\n",
       "    <tr>\n",
       "      <th>6</th>\n",
       "      <td>Ba3NaPtO4</td>\n",
       "      <td>(Ba, Na, Pt, O)</td>\n",
       "      <td>((1, 0.1111111111111111), (2, 0.33333333333333...</td>\n",
       "      <td>[]</td>\n",
       "    </tr>\n",
       "    <tr>\n",
       "      <th>7</th>\n",
       "      <td>K2P(WN2)2</td>\n",
       "      <td>(K, P, W, N)</td>\n",
       "      <td>((1, 0.2222222222222222), (6, 0.22222222222222...</td>\n",
       "      <td>[]</td>\n",
       "    </tr>\n",
       "    <tr>\n",
       "      <th>8</th>\n",
       "      <td>Sc2SeBr5</td>\n",
       "      <td>(Sc, Se, Br)</td>\n",
       "      <td>((3, 0.25), (16, 0.125), (17, 0.625))</td>\n",
       "      <td>[]</td>\n",
       "    </tr>\n",
       "    <tr>\n",
       "      <th>9</th>\n",
       "      <td>Sc3SBr6</td>\n",
       "      <td>(Sc, S, Br)</td>\n",
       "      <td>((3, 0.3), (16, 0.1), (17, 0.6))</td>\n",
       "      <td>[]</td>\n",
       "    </tr>\n",
       "    <tr>\n",
       "      <th>10</th>\n",
       "      <td>Sr3Cu2IO4</td>\n",
       "      <td>(Sr, Cu, I, O)</td>\n",
       "      <td>((2, 0.3), (11, 0.2), (16, 0.4), (17, 0.1))</td>\n",
       "      <td>[]</td>\n",
       "    </tr>\n",
       "    <tr>\n",
       "      <th>11</th>\n",
       "      <td>Zr6RhIO2</td>\n",
       "      <td>(Zr, Rh, I, O)</td>\n",
       "      <td>((4, 0.6), (9, 0.1), (16, 0.2), (17, 0.1))</td>\n",
       "      <td>[]</td>\n",
       "    </tr>\n",
       "    <tr>\n",
       "      <th>12</th>\n",
       "      <td>Hf2Br6O</td>\n",
       "      <td>(Hf, Br, O)</td>\n",
       "      <td>((4, 0.2222222222222222), (16, 0.1111111111111...</td>\n",
       "      <td>[]</td>\n",
       "    </tr>\n",
       "    <tr>\n",
       "      <th>13</th>\n",
       "      <td>Sc3Br6O</td>\n",
       "      <td>(Sc, Br, O)</td>\n",
       "      <td>((3, 0.3), (16, 0.1), (17, 0.6))</td>\n",
       "      <td>[]</td>\n",
       "    </tr>\n",
       "    <tr>\n",
       "      <th>14</th>\n",
       "      <td>Sr3Cu2IO4</td>\n",
       "      <td>(Sr, Cu, I, O)</td>\n",
       "      <td>((2, 0.3), (11, 0.2), (16, 0.4), (17, 0.1))</td>\n",
       "      <td>[]</td>\n",
       "    </tr>\n",
       "    <tr>\n",
       "      <th>15</th>\n",
       "      <td>Zr6RhIO2</td>\n",
       "      <td>(Zr, Rh, I, O)</td>\n",
       "      <td>((4, 0.6), (9, 0.1), (16, 0.2), (17, 0.1))</td>\n",
       "      <td>[]</td>\n",
       "    </tr>\n",
       "    <tr>\n",
       "      <th>16</th>\n",
       "      <td>K2OsO5</td>\n",
       "      <td>(K, Os, O)</td>\n",
       "      <td>((1, 0.25), (8, 0.125), (16, 0.625))</td>\n",
       "      <td>[]</td>\n",
       "    </tr>\n",
       "    <tr>\n",
       "      <th>17</th>\n",
       "      <td>AgRuO3</td>\n",
       "      <td>(Ag, Ru, O)</td>\n",
       "      <td>((8, 0.2), (11, 0.2), (16, 0.6))</td>\n",
       "      <td>[]</td>\n",
       "    </tr>\n",
       "    <tr>\n",
       "      <th>18</th>\n",
       "      <td>YAlV2O6</td>\n",
       "      <td>(Y, Al, V, O)</td>\n",
       "      <td>((3, 0.1), (5, 0.2), (13, 0.1), (16, 0.6))</td>\n",
       "      <td>[]</td>\n",
       "    </tr>\n",
       "    <tr>\n",
       "      <th>19</th>\n",
       "      <td>TiMnSnO5</td>\n",
       "      <td>(Ti, Mn, Sn, O)</td>\n",
       "      <td>((4, 0.125), (7, 0.125), (14, 0.125), (16, 0.6...</td>\n",
       "      <td>[]</td>\n",
       "    </tr>\n",
       "    <tr>\n",
       "      <th>20</th>\n",
       "      <td>TiCrO3</td>\n",
       "      <td>(Ti, Cr, O)</td>\n",
       "      <td>((4, 0.2), (6, 0.2), (16, 0.6))</td>\n",
       "      <td>[CeCrSe3, CeCrS3]</td>\n",
       "    </tr>\n",
       "    <tr>\n",
       "      <th>21</th>\n",
       "      <td>TiMnO3</td>\n",
       "      <td>(Ti, Mn, O)</td>\n",
       "      <td>((4, 0.2), (7, 0.2), (16, 0.6))</td>\n",
       "      <td>[ThMnSe3, PmTiO3, NpTiO3]</td>\n",
       "    </tr>\n",
       "    <tr>\n",
       "      <th>22</th>\n",
       "      <td>Ti2MnCrO6</td>\n",
       "      <td>(Ti, Mn, Cr, O)</td>\n",
       "      <td>((4, 0.2), (6, 0.1), (7, 0.1), (16, 0.6))</td>\n",
       "      <td>[]</td>\n",
       "    </tr>\n",
       "    <tr>\n",
       "      <th>23</th>\n",
       "      <td>ScTiCr2O6</td>\n",
       "      <td>(Sc, Ti, Cr, O)</td>\n",
       "      <td>((3, 0.1), (4, 0.1), (6, 0.2), (16, 0.6))</td>\n",
       "      <td>[]</td>\n",
       "    </tr>\n",
       "    <tr>\n",
       "      <th>24</th>\n",
       "      <td>HfAl5Ir3</td>\n",
       "      <td>(Hf, Al, Ir)</td>\n",
       "      <td>((4, 0.1111111111111111), (9, 0.33333333333333...</td>\n",
       "      <td>[]</td>\n",
       "    </tr>\n",
       "    <tr>\n",
       "      <th>25</th>\n",
       "      <td>YAl4Ir3</td>\n",
       "      <td>(Y, Al, Ir)</td>\n",
       "      <td>((3, 0.125), (9, 0.375), (13, 0.5))</td>\n",
       "      <td>[ScB4Ir3]</td>\n",
       "    </tr>\n",
       "    <tr>\n",
       "      <th>26</th>\n",
       "      <td>Sc5NiSn3Mo</td>\n",
       "      <td>(Sc, Ni, Sn, Mo)</td>\n",
       "      <td>((3, 0.5), (6, 0.1), (10, 0.1), (14, 0.3))</td>\n",
       "      <td>[]</td>\n",
       "    </tr>\n",
       "    <tr>\n",
       "      <th>27</th>\n",
       "      <td>ZrAl5OsRh</td>\n",
       "      <td>(Zr, Al, Os, Rh)</td>\n",
       "      <td>((4, 0.125), (8, 0.125), (9, 0.125), (13, 0.625))</td>\n",
       "      <td>[]</td>\n",
       "    </tr>\n",
       "    <tr>\n",
       "      <th>28</th>\n",
       "      <td>TiAl5Rh4</td>\n",
       "      <td>(Ti, Al, Rh)</td>\n",
       "      <td>((4, 0.1), (9, 0.4), (13, 0.5))</td>\n",
       "      <td>[]</td>\n",
       "    </tr>\n",
       "    <tr>\n",
       "      <th>29</th>\n",
       "      <td>ZrAl5Rh4</td>\n",
       "      <td>(Zr, Al, Rh)</td>\n",
       "      <td>((4, 0.1), (9, 0.4), (13, 0.5))</td>\n",
       "      <td>[]</td>\n",
       "    </tr>\n",
       "    <tr>\n",
       "      <th>30</th>\n",
       "      <td>TiAl5NiRh3</td>\n",
       "      <td>(Ti, Al, Ni, Rh)</td>\n",
       "      <td>((4, 0.1), (9, 0.3), (10, 0.1), (13, 0.5))</td>\n",
       "      <td>[]</td>\n",
       "    </tr>\n",
       "    <tr>\n",
       "      <th>31</th>\n",
       "      <td>Al6CrCoRh2</td>\n",
       "      <td>(Al, Cr, Co, Rh)</td>\n",
       "      <td>((6, 0.1), (9, 0.1), (9, 0.2), (13, 0.6))</td>\n",
       "      <td>[]</td>\n",
       "    </tr>\n",
       "    <tr>\n",
       "      <th>32</th>\n",
       "      <td>Ti2In3Ni4</td>\n",
       "      <td>(Ti, In, Ni)</td>\n",
       "      <td>((4, 0.2222222222222222), (10, 0.4444444444444...</td>\n",
       "      <td>[]</td>\n",
       "    </tr>\n",
       "    <tr>\n",
       "      <th>33</th>\n",
       "      <td>TiAl5NiRh3</td>\n",
       "      <td>(Ti, Al, Ni, Rh)</td>\n",
       "      <td>((4, 0.1), (9, 0.3), (10, 0.1), (13, 0.5))</td>\n",
       "      <td>[]</td>\n",
       "    </tr>\n",
       "    <tr>\n",
       "      <th>34</th>\n",
       "      <td>Al6CrCoRh2</td>\n",
       "      <td>(Al, Cr, Co, Rh)</td>\n",
       "      <td>((6, 0.1), (9, 0.1), (9, 0.2), (13, 0.6))</td>\n",
       "      <td>[]</td>\n",
       "    </tr>\n",
       "  </tbody>\n",
       "</table>\n",
       "</div>"
      ],
      "text/plain": [
       "   composition          comp_obj  \\\n",
       "0      KSc2Br7       (K, Sc, Br)   \n",
       "1       KHfBr5       (K, Hf, Br)   \n",
       "2    CsNa2CdF4   (Cs, Na, Cd, F)   \n",
       "3    Na2CrPbF5   (Na, Cr, Pb, F)   \n",
       "4       K2W2N5         (K, W, N)   \n",
       "5      LiTi4N5       (Li, Ti, N)   \n",
       "6    Ba3NaPtO4   (Ba, Na, Pt, O)   \n",
       "7    K2P(WN2)2      (K, P, W, N)   \n",
       "8     Sc2SeBr5      (Sc, Se, Br)   \n",
       "9      Sc3SBr6       (Sc, S, Br)   \n",
       "10   Sr3Cu2IO4    (Sr, Cu, I, O)   \n",
       "11    Zr6RhIO2    (Zr, Rh, I, O)   \n",
       "12     Hf2Br6O       (Hf, Br, O)   \n",
       "13     Sc3Br6O       (Sc, Br, O)   \n",
       "14   Sr3Cu2IO4    (Sr, Cu, I, O)   \n",
       "15    Zr6RhIO2    (Zr, Rh, I, O)   \n",
       "16      K2OsO5        (K, Os, O)   \n",
       "17      AgRuO3       (Ag, Ru, O)   \n",
       "18     YAlV2O6     (Y, Al, V, O)   \n",
       "19    TiMnSnO5   (Ti, Mn, Sn, O)   \n",
       "20      TiCrO3       (Ti, Cr, O)   \n",
       "21      TiMnO3       (Ti, Mn, O)   \n",
       "22   Ti2MnCrO6   (Ti, Mn, Cr, O)   \n",
       "23   ScTiCr2O6   (Sc, Ti, Cr, O)   \n",
       "24    HfAl5Ir3      (Hf, Al, Ir)   \n",
       "25     YAl4Ir3       (Y, Al, Ir)   \n",
       "26  Sc5NiSn3Mo  (Sc, Ni, Sn, Mo)   \n",
       "27   ZrAl5OsRh  (Zr, Al, Os, Rh)   \n",
       "28    TiAl5Rh4      (Ti, Al, Rh)   \n",
       "29    ZrAl5Rh4      (Zr, Al, Rh)   \n",
       "30  TiAl5NiRh3  (Ti, Al, Ni, Rh)   \n",
       "31  Al6CrCoRh2  (Al, Cr, Co, Rh)   \n",
       "32   Ti2In3Ni4      (Ti, In, Ni)   \n",
       "33  TiAl5NiRh3  (Ti, Al, Ni, Rh)   \n",
       "34  Al6CrCoRh2  (Al, Cr, Co, Rh)   \n",
       "\n",
       "                                            prototype  \\\n",
       "0                     ((1, 0.1), (3, 0.2), (17, 0.7))   \n",
       "1   ((1, 0.14285714285714285), (4, 0.1428571428571...   \n",
       "2     ((1, 0.125), (1, 0.25), (12, 0.125), (17, 0.5))   \n",
       "3   ((1, 0.2222222222222222), (6, 0.11111111111111...   \n",
       "4   ((1, 0.2222222222222222), (6, 0.22222222222222...   \n",
       "5                     ((1, 0.1), (4, 0.4), (15, 0.5))   \n",
       "6   ((1, 0.1111111111111111), (2, 0.33333333333333...   \n",
       "7   ((1, 0.2222222222222222), (6, 0.22222222222222...   \n",
       "8               ((3, 0.25), (16, 0.125), (17, 0.625))   \n",
       "9                    ((3, 0.3), (16, 0.1), (17, 0.6))   \n",
       "10        ((2, 0.3), (11, 0.2), (16, 0.4), (17, 0.1))   \n",
       "11         ((4, 0.6), (9, 0.1), (16, 0.2), (17, 0.1))   \n",
       "12  ((4, 0.2222222222222222), (16, 0.1111111111111...   \n",
       "13                   ((3, 0.3), (16, 0.1), (17, 0.6))   \n",
       "14        ((2, 0.3), (11, 0.2), (16, 0.4), (17, 0.1))   \n",
       "15         ((4, 0.6), (9, 0.1), (16, 0.2), (17, 0.1))   \n",
       "16               ((1, 0.25), (8, 0.125), (16, 0.625))   \n",
       "17                   ((8, 0.2), (11, 0.2), (16, 0.6))   \n",
       "18         ((3, 0.1), (5, 0.2), (13, 0.1), (16, 0.6))   \n",
       "19  ((4, 0.125), (7, 0.125), (14, 0.125), (16, 0.6...   \n",
       "20                    ((4, 0.2), (6, 0.2), (16, 0.6))   \n",
       "21                    ((4, 0.2), (7, 0.2), (16, 0.6))   \n",
       "22          ((4, 0.2), (6, 0.1), (7, 0.1), (16, 0.6))   \n",
       "23          ((3, 0.1), (4, 0.1), (6, 0.2), (16, 0.6))   \n",
       "24  ((4, 0.1111111111111111), (9, 0.33333333333333...   \n",
       "25                ((3, 0.125), (9, 0.375), (13, 0.5))   \n",
       "26         ((3, 0.5), (6, 0.1), (10, 0.1), (14, 0.3))   \n",
       "27  ((4, 0.125), (8, 0.125), (9, 0.125), (13, 0.625))   \n",
       "28                    ((4, 0.1), (9, 0.4), (13, 0.5))   \n",
       "29                    ((4, 0.1), (9, 0.4), (13, 0.5))   \n",
       "30         ((4, 0.1), (9, 0.3), (10, 0.1), (13, 0.5))   \n",
       "31          ((6, 0.1), (9, 0.1), (9, 0.2), (13, 0.6))   \n",
       "32  ((4, 0.2222222222222222), (10, 0.4444444444444...   \n",
       "33         ((4, 0.1), (9, 0.3), (10, 0.1), (13, 0.5))   \n",
       "34          ((6, 0.1), (9, 0.1), (9, 0.2), (13, 0.6))   \n",
       "\n",
       "                     similiar  \n",
       "0                    [KSc2F7]  \n",
       "1                    [RbHfF5]  \n",
       "2                          []  \n",
       "3                          []  \n",
       "4                          []  \n",
       "5                          []  \n",
       "6                          []  \n",
       "7                          []  \n",
       "8                          []  \n",
       "9                          []  \n",
       "10                         []  \n",
       "11                         []  \n",
       "12                         []  \n",
       "13                         []  \n",
       "14                         []  \n",
       "15                         []  \n",
       "16                         []  \n",
       "17                         []  \n",
       "18                         []  \n",
       "19                         []  \n",
       "20          [CeCrSe3, CeCrS3]  \n",
       "21  [ThMnSe3, PmTiO3, NpTiO3]  \n",
       "22                         []  \n",
       "23                         []  \n",
       "24                         []  \n",
       "25                  [ScB4Ir3]  \n",
       "26                         []  \n",
       "27                         []  \n",
       "28                         []  \n",
       "29                         []  \n",
       "30                         []  \n",
       "31                         []  \n",
       "32                         []  \n",
       "33                         []  \n",
       "34                         []  "
      ]
     },
     "execution_count": 15,
     "metadata": {},
     "output_type": "execute_result"
    }
   ],
   "source": [
    "interesting_list"
   ]
  }
 ],
 "metadata": {
  "kernelspec": {
   "display_name": "Python 3",
   "language": "python",
   "name": "python3"
  },
  "language_info": {
   "codemirror_mode": {
    "name": "ipython",
    "version": 3
   },
   "file_extension": ".py",
   "mimetype": "text/x-python",
   "name": "python",
   "nbconvert_exporter": "python",
   "pygments_lexer": "ipython3",
   "version": "3.6.0"
  }
 },
 "nbformat": 4,
 "nbformat_minor": 2
}
