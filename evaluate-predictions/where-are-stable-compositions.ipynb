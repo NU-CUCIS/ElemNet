{
 "cells": [
  {
   "cell_type": "markdown",
   "metadata": {
    "deletable": true,
    "editable": true
   },
   "source": [
    "# Where are the stable compositions?\n",
    "Figure out which systems are the most prevalent"
   ]
  },
  {
   "cell_type": "code",
   "execution_count": 3,
   "metadata": {
    "collapsed": true,
    "deletable": true,
    "editable": true
   },
   "outputs": [],
   "source": [
    "%matplotlib inline\n",
    "import pandas as pd\n",
    "import numpy as np\n",
    "from scipy.misc import comb\n",
    "from pymatgen import Element, Composition\n",
    "from matplotlib import pyplot as plt\n",
    "import itertools\n",
    "import os\n",
    "import re"
   ]
  },
  {
   "cell_type": "markdown",
   "metadata": {
    "deletable": true,
    "editable": true
   },
   "source": [
    "Important variables"
   ]
  },
  {
   "cell_type": "code",
   "execution_count": 4,
   "metadata": {
    "collapsed": false,
    "deletable": true,
    "editable": true
   },
   "outputs": [
    {
     "name": "stderr",
     "output_type": "stream",
     "text": [
      "C:\\Users\\ward6\\AppData\\Local\\Continuum\\Miniconda3\\lib\\site-packages\\IPython\\core\\interactiveshell.py:2717: DtypeWarning: Columns (1,2) have mixed types. Specify dtype option on import or set low_memory=False.\n",
      "  interactivity=interactivity, compiler=compiler, result=result)\n"
     ]
    }
   ],
   "source": [
    "oqmd_data = pd.read_csv('oqmd_all.txt', delim_whitespace=True).query('delta_e > -20')"
   ]
  },
  {
   "cell_type": "code",
   "execution_count": 5,
   "metadata": {
    "collapsed": false,
    "deletable": true,
    "editable": true
   },
   "outputs": [],
   "source": [
    "comp_per_system = {'binary':31, 'ternary':109, 'quaternary': 205}"
   ]
  },
  {
   "cell_type": "markdown",
   "metadata": {
    "deletable": true,
    "editable": true
   },
   "source": [
    "## Compute the fraction of search space that is \"stable\"\n",
    "Read in the \"stable\" compounds from disk, determine how many are from binaries/ternaries/quaternaties"
   ]
  },
  {
   "cell_type": "code",
   "execution_count": 6,
   "metadata": {
    "collapsed": false,
    "deletable": true,
    "editable": true
   },
   "outputs": [],
   "source": [
    "data = dict((x,pd.read_csv(os.path.join('new-datasets', '%s_stable-0.2.data.gz'%x), sep=' ')) for x in comp_per_system)"
   ]
  },
  {
   "cell_type": "code",
   "execution_count": 7,
   "metadata": {
    "collapsed": false,
    "deletable": true,
    "editable": true
   },
   "outputs": [
    {
     "data": {
      "text/html": [
       "<div>\n",
       "<table border=\"1\" class=\"dataframe\">\n",
       "  <thead>\n",
       "    <tr style=\"text-align: right;\">\n",
       "      <th></th>\n",
       "      <th>composition</th>\n",
       "      <th>delta_e_predicted</th>\n",
       "      <th>stability_predicted</th>\n",
       "    </tr>\n",
       "  </thead>\n",
       "  <tbody>\n",
       "    <tr>\n",
       "      <th>0</th>\n",
       "      <td>F0.7Ne0.3</td>\n",
       "      <td>-3.451</td>\n",
       "      <td>-3.451</td>\n",
       "    </tr>\n",
       "    <tr>\n",
       "      <th>1</th>\n",
       "      <td>He0.285714F0.714286</td>\n",
       "      <td>-3.448</td>\n",
       "      <td>-3.448</td>\n",
       "    </tr>\n",
       "    <tr>\n",
       "      <th>2</th>\n",
       "      <td>He0.333333F0.666667</td>\n",
       "      <td>-3.447</td>\n",
       "      <td>-3.447</td>\n",
       "    </tr>\n",
       "    <tr>\n",
       "      <th>3</th>\n",
       "      <td>F0.714286Ne0.285714</td>\n",
       "      <td>-3.434</td>\n",
       "      <td>-3.434</td>\n",
       "    </tr>\n",
       "    <tr>\n",
       "      <th>4</th>\n",
       "      <td>F0.666667Ar0.333333</td>\n",
       "      <td>-3.430</td>\n",
       "      <td>-3.430</td>\n",
       "    </tr>\n",
       "  </tbody>\n",
       "</table>\n",
       "</div>"
      ],
      "text/plain": [
       "           composition  delta_e_predicted  stability_predicted\n",
       "0            F0.7Ne0.3             -3.451               -3.451\n",
       "1  He0.285714F0.714286             -3.448               -3.448\n",
       "2  He0.333333F0.666667             -3.447               -3.447\n",
       "3  F0.714286Ne0.285714             -3.434               -3.434\n",
       "4  F0.666667Ar0.333333             -3.430               -3.430"
      ]
     },
     "execution_count": 7,
     "metadata": {},
     "output_type": "execute_result"
    }
   ],
   "source": [
    "data['binary'].head()"
   ]
  },
  {
   "cell_type": "markdown",
   "metadata": {
    "deletable": true,
    "editable": true
   },
   "source": [
    "Compute the fraction stable per number of components"
   ]
  },
  {
   "cell_type": "code",
   "execution_count": 8,
   "metadata": {
    "collapsed": false,
    "deletable": true,
    "editable": true
   },
   "outputs": [
    {
     "name": "stdout",
     "output_type": "stream",
     "text": [
      "binary: 3479 stable, 121396 total, 2.87%\n",
      "ternary: 324238 stable, 12378476 total, 2.62%\n",
      "quaternary: 10902930 stable, 500533330 total, 2.18%\n"
     ]
    }
   ],
   "source": [
    "for word,number in zip(['binary','ternary','quaternary'],[2,3,4]):\n",
    "    number_stable = len(data[word])\n",
    "    total_number = comb(89,number,exact=True)*comp_per_system[word]\n",
    "    print('%s: %d stable, %d total, %.2f%%'%(word, number_stable,\n",
    "                                             total_number, \n",
    "                                             number_stable / total_number * 100))"
   ]
  },
  {
   "cell_type": "markdown",
   "metadata": {
    "deletable": true,
    "editable": true
   },
   "source": [
    "### Break it down by element"
   ]
  },
  {
   "cell_type": "markdown",
   "metadata": {
    "deletable": true,
    "editable": true
   },
   "source": [
    "Get elements in each entry"
   ]
  },
  {
   "cell_type": "code",
   "execution_count": 9,
   "metadata": {
    "collapsed": true,
    "deletable": true,
    "editable": true
   },
   "outputs": [],
   "source": [
    "elem_re = re.compile('[A-Z][a-z]?')\n",
    "def get_elems(s):\n",
    "    return tuple(sorted(set(elem_re.findall(s))))"
   ]
  },
  {
   "cell_type": "code",
   "execution_count": 10,
   "metadata": {
    "collapsed": false,
    "deletable": true,
    "editable": true
   },
   "outputs": [],
   "source": [
    "for key,dataset in data.items():\n",
    "    dataset['elements'] = dataset['composition'].apply(get_elems)"
   ]
  },
  {
   "cell_type": "code",
   "execution_count": 11,
   "metadata": {
    "collapsed": false,
    "deletable": true,
    "editable": true
   },
   "outputs": [
    {
     "name": "stdout",
     "output_type": "stream",
     "text": [
      "Number of elements: 89\n"
     ]
    }
   ],
   "source": [
    "element_list = set()\n",
    "data['binary']['composition'].apply(lambda x: element_list.update(elem_re.findall(x)))\n",
    "print('Number of elements:', len(element_list))"
   ]
  },
  {
   "cell_type": "markdown",
   "metadata": {
    "deletable": true,
    "editable": true
   },
   "source": [
    "Which element is the most frequent"
   ]
  },
  {
   "cell_type": "code",
   "execution_count": 12,
   "metadata": {
    "collapsed": false,
    "deletable": true,
    "editable": true
   },
   "outputs": [
    {
     "name": "stdout",
     "output_type": "stream",
     "text": [
      "Wall time: 3min 2s\n"
     ]
    }
   ],
   "source": [
    "%%time\n",
    "def get_elem_frequency(dataset):\n",
    "    elem_dict = dict([\n",
    "        (x,{'count':sum([x in y for y in dataset['elements']])}) for x in element_list\n",
    "    ])\n",
    "    return pd.DataFrame.from_dict(elem_dict, 'index')\n",
    "elem_freq = dict([(name,get_elem_frequency(dataset)) for name,dataset in data.items()])"
   ]
  },
  {
   "cell_type": "code",
   "execution_count": 13,
   "metadata": {
    "collapsed": false,
    "deletable": true,
    "editable": true
   },
   "outputs": [
    {
     "name": "stdout",
     "output_type": "stream",
     "text": [
      "\t binary\n",
      "    count\n",
      "He    670\n",
      "Ne    670\n",
      "Ar    666\n",
      "F     614\n",
      "Br    276\n",
      "I     250\n",
      "Cl    193\n",
      "Pt    180\n",
      "\t ternary\n",
      "    count\n",
      "Ar  56134\n",
      "Ne  56114\n",
      "He  56046\n",
      "Br  51508\n",
      "I   42587\n",
      "Cl  35099\n",
      "F   34595\n",
      "Se  34411\n",
      "\t quaternary\n",
      "      count\n",
      "Br  2009554\n",
      "Ne  1949512\n",
      "Ar  1949354\n",
      "He  1949227\n",
      "N   1830705\n",
      "Se  1786590\n",
      "I   1732607\n",
      "S   1518798\n"
     ]
    }
   ],
   "source": [
    "for item,dataset in elem_freq.items():\n",
    "    print(\"\\t\",item)\n",
    "    print(dataset.sort_values('count', ascending=False)[:8])"
   ]
  },
  {
   "cell_type": "markdown",
   "metadata": {
    "deletable": true,
    "editable": true
   },
   "source": [
    "Most common systems"
   ]
  },
  {
   "cell_type": "code",
   "execution_count": 14,
   "metadata": {
    "collapsed": false,
    "deletable": true,
    "editable": true
   },
   "outputs": [
    {
     "name": "stdout",
     "output_type": "stream",
     "text": [
      "\t binary\n",
      "          counts\n",
      "(Ar, F)       31\n",
      "(He, P)       31\n",
      "(Ar, Ne)      31\n",
      "(Ar, Br)      31\n",
      "(Ar, He)      31\n",
      "\t ternary\n",
      "              counts\n",
      "(Ar, He, Pt)     109\n",
      "(Ar, Ne, P)      109\n",
      "(Ar, Br, Cl)     109\n",
      "(Ar, Cl, He)     109\n",
      "(Ar, Br, He)     109\n",
      "\t quaternary\n",
      "                 counts\n",
      "(Ar, Cl, F, I)      205\n",
      "(He, Ne, O, Se)     205\n",
      "(Ar, Cl, I, Se)     205\n",
      "(Ar, He, O, Se)     205\n",
      "(Ar, Br, Cl, O)     205\n"
     ]
    }
   ],
   "source": [
    "common_systems = {}\n",
    "for item,dataset in data.items():\n",
    "    print('\\t', item)\n",
    "    common_systems[item] = pd.DataFrame()\n",
    "    common_systems[item]['counts'] = dataset['elements'].value_counts()\n",
    "    print(common_systems[item][:5])"
   ]
  },
  {
   "cell_type": "markdown",
   "metadata": {
    "deletable": true,
    "editable": true
   },
   "source": [
    "### Analyze the training set\n",
    "I'm looking to understand why there are so many noble gas predictions"
   ]
  },
  {
   "cell_type": "code",
   "execution_count": 15,
   "metadata": {
    "collapsed": false,
    "deletable": true,
    "editable": true
   },
   "outputs": [],
   "source": [
    "oqmd_data['elements'] = oqmd_data['comp'].apply(get_elems)\n",
    "oqmd_data['composition_pmg'] = oqmd_data['comp'].apply(lambda x: Composition(x))"
   ]
  },
  {
   "cell_type": "code",
   "execution_count": 16,
   "metadata": {
    "collapsed": true,
    "deletable": true,
    "editable": true
   },
   "outputs": [],
   "source": [
    "oqmd_data['nelem'] = oqmd_data['elements'].apply(lambda x: len(x))"
   ]
  },
  {
   "cell_type": "code",
   "execution_count": 17,
   "metadata": {
    "collapsed": false,
    "deletable": true,
    "editable": true
   },
   "outputs": [],
   "source": [
    "def number_of_training_points(system):\n",
    "    return len(set(oqmd_data[oqmd_data['elements'] == system]['composition_pmg']))\n",
    "assert number_of_training_points(('Cl', 'He')) == 0"
   ]
  },
  {
   "cell_type": "code",
   "execution_count": 18,
   "metadata": {
    "collapsed": true,
    "deletable": true,
    "editable": true
   },
   "outputs": [],
   "source": [
    "def training_entries_with_element(element):\n",
    "    return oqmd_data[[element in x for x in oqmd_data['elements']]]"
   ]
  },
  {
   "cell_type": "markdown",
   "metadata": {},
   "source": [
    "### Do we have much Noble Gas training data?"
   ]
  },
  {
   "cell_type": "code",
   "execution_count": 19,
   "metadata": {
    "collapsed": false,
    "deletable": true,
    "editable": true
   },
   "outputs": [
    {
     "name": "stdout",
     "output_type": "stream",
     "text": [
      "He 0\n",
      "Ne 0\n",
      "Ar 0\n",
      "Kr 1\n",
      "Xe 2\n"
     ]
    }
   ],
   "source": [
    "noble_gasses = ['He','Ne','Ar','Kr','Xe']\n",
    "for ng in noble_gasses:\n",
    "    print(ng, sum([number_of_training_points(tuple(sorted((ng, e)))) != 0 for e in element_list]))"
   ]
  },
  {
   "cell_type": "markdown",
   "metadata": {
    "deletable": true,
    "editable": true
   },
   "source": [
    "*Finding*: There is no training data for He, Ne, Ar. Predictions with these elements are therefore unreliable"
   ]
  },
  {
   "cell_type": "markdown",
   "metadata": {},
   "source": [
    "### Is the stability of a system related to the number of training points or mixing enthalpy?"
   ]
  },
  {
   "cell_type": "code",
   "execution_count": 24,
   "metadata": {
    "collapsed": true
   },
   "outputs": [],
   "source": [
    "# TBD"
   ]
  },
  {
   "cell_type": "code",
   "execution_count": 20,
   "metadata": {
    "collapsed": false,
    "deletable": true,
    "editable": true
   },
   "outputs": [],
   "source": [
    "common_systems['binary']['training_points'] = common_systems['binary'].apply(lambda x: number_of_training_points(x.name), axis=1)"
   ]
  },
  {
   "cell_type": "markdown",
   "metadata": {
    "deletable": true,
    "editable": true
   },
   "source": [
    "Figure out why so m"
   ]
  },
  {
   "cell_type": "code",
   "execution_count": 21,
   "metadata": {
    "collapsed": false,
    "deletable": true,
    "editable": true
   },
   "outputs": [],
   "source": [
    "common_systems['binary']['max_dHf'] = \\\n",
    "    common_systems['binary'].apply(lambda x: oqmd_data[oqmd_data['elements'] == x.name].query('nelem == 2')['delta_e'].min(), axis=1)"
   ]
  },
  {
   "cell_type": "markdown",
   "metadata": {
    "deletable": true,
    "editable": true
   },
   "source": [
    "*Thought*: Is just a few training entries sufficient to make it realize noble gasses are not very reactive?"
   ]
  },
  {
   "cell_type": "markdown",
   "metadata": {
    "deletable": true,
    "editable": true
   },
   "source": [
    "## Without Rare Elements"
   ]
  },
  {
   "cell_type": "markdown",
   "metadata": {
    "deletable": true,
    "editable": true
   },
   "source": [
    "### Get rid of the noble gasses"
   ]
  },
  {
   "cell_type": "code",
   "execution_count": 25,
   "metadata": {
    "collapsed": false,
    "deletable": true,
    "editable": true
   },
   "outputs": [
    {
     "name": "stdout",
     "output_type": "stream",
     "text": [
      "Wall time: 14.3 s\n"
     ]
    }
   ],
   "source": [
    "%%time\n",
    "def contains_elements(my_elements, elements=noble_gasses):\n",
    "    return any([x in my_elements for x in elements])\n",
    "for item,dataset in data.items():\n",
    "    data[item] = dataset[~ dataset['elements'].apply(contains_elements)]"
   ]
  },
  {
   "cell_type": "markdown",
   "metadata": {},
   "source": [
    "Repeat the system analysis"
   ]
  },
  {
   "cell_type": "code",
   "execution_count": 29,
   "metadata": {
    "collapsed": false
   },
   "outputs": [
    {
     "name": "stdout",
     "output_type": "stream",
     "text": [
      "\t binary\n",
      "          counts\n",
      "(F, Tm)       16\n",
      "(Br, Lu)      15\n",
      "(I, Pa)       15\n",
      "(Br, Sc)      15\n",
      "(Br, Er)      15\n",
      "\t ternary\n",
      "              counts\n",
      "(Br, Cl, Er)      90\n",
      "(Br, I, Pm)       89\n",
      "(Br, Cl, Lu)      88\n",
      "(Br, Cl, Ho)      88\n",
      "(Br, Pm, Se)      84\n",
      "\t quaternary\n",
      "                 counts\n",
      "(Br, I, Pm, Se)     194\n",
      "(Br, I, Pm, Te)     193\n",
      "(Br, I, P, Pm)      192\n",
      "(Br, Cl, I, Lu)     191\n",
      "(Br, Cl, Er, I)     191\n",
      "Wall time: 4.5 s\n"
     ]
    }
   ],
   "source": [
    "%%time\n",
    "common_systems = {}\n",
    "for item,dataset in data.items():\n",
    "    print('\\t', item)\n",
    "    common_systems[item] = pd.DataFrame()\n",
    "    common_systems[item]['counts'] = dataset['elements'].value_counts()\n",
    "    print(common_systems[item][:5])"
   ]
  },
  {
   "cell_type": "markdown",
   "metadata": {},
   "source": [
    "*Finding*: Well, most of the top systems have rare earths"
   ]
  },
  {
   "cell_type": "markdown",
   "metadata": {},
   "source": [
    "### Get rid of Actinides/Lanthanides"
   ]
  },
  {
   "cell_type": "code",
   "execution_count": 34,
   "metadata": {
    "collapsed": true
   },
   "outputs": [],
   "source": [
    "actinides = [Element.from_Z(x).symbol for x in range(57,72)]\n",
    "lanthanides = [Element.from_Z(x).symbol for x in range(89, 104)]"
   ]
  },
  {
   "cell_type": "code",
   "execution_count": 36,
   "metadata": {
    "collapsed": false
   },
   "outputs": [],
   "source": [
    "for item,dataset in data.items():\n",
    "    data[item] = dataset[~ dataset['elements'].apply(lambda x: np.logical_or(contains_elements(x, actinides), \n",
    "                                                                             contains_elements(x, lanthanides)))]"
   ]
  },
  {
   "cell_type": "code",
   "execution_count": 39,
   "metadata": {
    "collapsed": false
   },
   "outputs": [
    {
     "name": "stdout",
     "output_type": "stream",
     "text": [
      "\t binary\n",
      "          counts\n",
      "(F, K)        15\n",
      "(Br, Sc)      15\n",
      "(Br, Hf)      15\n",
      "(F, Rb)       15\n",
      "(F, Na)       14\n",
      "(Cs, F)       14\n",
      "(Br, Y)       13\n",
      "(B, I)        11\n",
      "(Be, F)       10\n",
      "(F, Li)       10\n",
      "\t ternary\n",
      "              counts\n",
      "(Br, Se, Y)       78\n",
      "(Br, Sc, Se)      77\n",
      "(Br, I, Sc)       73\n",
      "(Br, Te, Y)       73\n",
      "(Br, H, Sc)       72\n",
      "(Br, S, Y)        70\n",
      "(Br, Sc, Te)      67\n",
      "(Br, Hf, S)       67\n",
      "(Br, H, Hf)       66\n",
      "(Br, Hf, Se)      65\n",
      "\t quaternary\n",
      "                 counts\n",
      "(Br, I, Sc, Se)     185\n",
      "(Br, Se, Te, Y)     181\n",
      "(Br, I, Te, Y)      172\n",
      "(Br, H, Sc, Se)     170\n",
      "(Br, Pt, Se, Y)     166\n",
      "(Br, I, Se, Y)      164\n",
      "(Au, Br, Se, Y)     164\n",
      "(Br, Cl, Te, Y)     163\n",
      "(I, S, Se, Tc)      162\n",
      "(Br, P, Se, Y)      162\n",
      "Wall time: 2.71 s\n",
      "Parser   : 2.72 s\n"
     ]
    }
   ],
   "source": [
    "%%time\n",
    "common_systems = {}\n",
    "for item,dataset in data.items():\n",
    "    print('\\t', item)\n",
    "    common_systems[item] = pd.DataFrame()\n",
    "    common_systems[item]['counts'] = dataset['elements'].value_counts()\n",
    "    print(common_systems[item][:10])"
   ]
  },
  {
   "cell_type": "code",
   "execution_count": null,
   "metadata": {
    "collapsed": true
   },
   "outputs": [],
   "source": []
  }
 ],
 "metadata": {
  "kernelspec": {
   "display_name": "Python 3",
   "language": "python",
   "name": "python3"
  },
  "language_info": {
   "codemirror_mode": {
    "name": "ipython",
    "version": 3
   },
   "file_extension": ".py",
   "mimetype": "text/x-python",
   "name": "python",
   "nbconvert_exporter": "python",
   "pygments_lexer": "ipython3",
   "version": "3.6.0"
  }
 },
 "nbformat": 4,
 "nbformat_minor": 2
}
